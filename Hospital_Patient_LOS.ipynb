{
  "cells": [
    {
      "cell_type": "markdown",
      "metadata": {
        "id": "view-in-github",
        "colab_type": "text"
      },
      "source": [
        "<a href=\"https://colab.research.google.com/github/AstouK/PFMS---Healthcare-Analytics-II/blob/main/Hospital_Patient_LOS.ipynb\" target=\"_parent\"><img src=\"https://colab.research.google.com/assets/colab-badge.svg\" alt=\"Open In Colab\"/></a>"
      ]
    },
    {
      "cell_type": "markdown",
      "metadata": {
        "id": "CYtgmHw9L2nr"
      },
      "source": [
        "##1. Business Understanding and Objective\n",
        "\n",
        "### Topic Overview: healthcare Analysis\n",
        "\n",
        "* Problem statement: e.g., “Predict the expected length of stay (LOS) in days for inpatients based on demographics, diagnoses, and treatments.”\n",
        "* Business/clinical context: Why it matters (e.g., resource allocation, discharge planning).\n",
        "\n",
        "### Objective\n"
      ]
    },
    {
      "cell_type": "markdown",
      "metadata": {
        "id": "Sofm6mf-B0tK"
      },
      "source": [
        "## 2. Data Understanding\n",
        "Goal: Load and inspect the raw data.\n",
        "You’d do:\n",
        "* Import libraries (pandas, numpy, matplotlib, etc.)\n",
        "* Load datasets (.csv, SQL, or hospital data warehouse)\n",
        "* Display sample rows, column info, and data types (df.info(), df.describe())\n",
        "\n",
        "Why: You need to understand what data you have, how it’s structured, and whether it’s suitable for the task.\n"
      ]
    },
    {
      "cell_type": "markdown",
      "metadata": {
        "id": "u5LzImK5zuQJ"
      },
      "source": [
        "### 2.1 Loading Data and Imports"
      ]
    },
    {
      "cell_type": "code",
      "execution_count": null,
      "metadata": {
        "colab": {
          "base_uri": "https://localhost:8080/"
        },
        "id": "KtBC4nrxKim8",
        "outputId": "d161a8d7-2b71-4c7e-a63c-a393a0105d69"
      },
      "outputs": [
        {
          "output_type": "stream",
          "name": "stdout",
          "text": [
            "Requirement already satisfied: ogboost in /usr/local/lib/python3.12/dist-packages (0.8.2)\n",
            "Requirement already satisfied: numpy in /usr/local/lib/python3.12/dist-packages (from ogboost) (2.0.2)\n",
            "Requirement already satisfied: pandas in /usr/local/lib/python3.12/dist-packages (from ogboost) (2.2.2)\n",
            "Requirement already satisfied: scikit-learn in /usr/local/lib/python3.12/dist-packages (from ogboost) (1.6.1)\n",
            "Requirement already satisfied: scipy in /usr/local/lib/python3.12/dist-packages (from ogboost) (1.16.2)\n",
            "Requirement already satisfied: pydantic in /usr/local/lib/python3.12/dist-packages (from ogboost) (2.11.10)\n",
            "Requirement already satisfied: pytest in /usr/local/lib/python3.12/dist-packages (from ogboost) (8.4.2)\n",
            "Requirement already satisfied: matplotlib in /usr/local/lib/python3.12/dist-packages (from ogboost) (3.10.0)\n",
            "Requirement already satisfied: contourpy>=1.0.1 in /usr/local/lib/python3.12/dist-packages (from matplotlib->ogboost) (1.3.3)\n",
            "Requirement already satisfied: cycler>=0.10 in /usr/local/lib/python3.12/dist-packages (from matplotlib->ogboost) (0.12.1)\n",
            "Requirement already satisfied: fonttools>=4.22.0 in /usr/local/lib/python3.12/dist-packages (from matplotlib->ogboost) (4.60.1)\n",
            "Requirement already satisfied: kiwisolver>=1.3.1 in /usr/local/lib/python3.12/dist-packages (from matplotlib->ogboost) (1.4.9)\n",
            "Requirement already satisfied: packaging>=20.0 in /usr/local/lib/python3.12/dist-packages (from matplotlib->ogboost) (25.0)\n",
            "Requirement already satisfied: pillow>=8 in /usr/local/lib/python3.12/dist-packages (from matplotlib->ogboost) (11.3.0)\n",
            "Requirement already satisfied: pyparsing>=2.3.1 in /usr/local/lib/python3.12/dist-packages (from matplotlib->ogboost) (3.2.5)\n",
            "Requirement already satisfied: python-dateutil>=2.7 in /usr/local/lib/python3.12/dist-packages (from matplotlib->ogboost) (2.9.0.post0)\n",
            "Requirement already satisfied: pytz>=2020.1 in /usr/local/lib/python3.12/dist-packages (from pandas->ogboost) (2025.2)\n",
            "Requirement already satisfied: tzdata>=2022.7 in /usr/local/lib/python3.12/dist-packages (from pandas->ogboost) (2025.2)\n",
            "Requirement already satisfied: annotated-types>=0.6.0 in /usr/local/lib/python3.12/dist-packages (from pydantic->ogboost) (0.7.0)\n",
            "Requirement already satisfied: pydantic-core==2.33.2 in /usr/local/lib/python3.12/dist-packages (from pydantic->ogboost) (2.33.2)\n",
            "Requirement already satisfied: typing-extensions>=4.12.2 in /usr/local/lib/python3.12/dist-packages (from pydantic->ogboost) (4.15.0)\n",
            "Requirement already satisfied: typing-inspection>=0.4.0 in /usr/local/lib/python3.12/dist-packages (from pydantic->ogboost) (0.4.2)\n",
            "Requirement already satisfied: iniconfig>=1 in /usr/local/lib/python3.12/dist-packages (from pytest->ogboost) (2.1.0)\n",
            "Requirement already satisfied: pluggy<2,>=1.5 in /usr/local/lib/python3.12/dist-packages (from pytest->ogboost) (1.6.0)\n",
            "Requirement already satisfied: pygments>=2.7.2 in /usr/local/lib/python3.12/dist-packages (from pytest->ogboost) (2.19.2)\n",
            "Requirement already satisfied: joblib>=1.2.0 in /usr/local/lib/python3.12/dist-packages (from scikit-learn->ogboost) (1.5.2)\n",
            "Requirement already satisfied: threadpoolctl>=3.1.0 in /usr/local/lib/python3.12/dist-packages (from scikit-learn->ogboost) (3.6.0)\n",
            "Requirement already satisfied: six>=1.5 in /usr/local/lib/python3.12/dist-packages (from python-dateutil>=2.7->matplotlib->ogboost) (1.17.0)\n"
          ]
        }
      ],
      "source": [
        "#Installing necessary packages (not included in Google collab)\n",
        "!pip install ogboost"
      ]
    },
    {
      "cell_type": "code",
      "execution_count": null,
      "metadata": {
        "colab": {
          "base_uri": "https://localhost:8080/"
        },
        "id": "o1Zxp9ulJVzt",
        "outputId": "632409fb-26fc-4245-e9ca-7bf2c70c4bdb"
      },
      "outputs": [
        {
          "output_type": "stream",
          "name": "stdout",
          "text": [
            "Mounted at /content/drive\n"
          ]
        }
      ],
      "source": [
        "# Import Drive to access csv file on google collab (remove before submitting file)\n",
        "from google.colab import drive\n",
        "drive.mount('/content/drive')"
      ]
    },
    {
      "cell_type": "code",
      "execution_count": null,
      "metadata": {
        "id": "s4bS0Ba9MGc4"
      },
      "outputs": [],
      "source": [
        "# CORE LIBRARIES\n",
        "import numpy as np\n",
        "import pandas as pd\n",
        "\n",
        "# DATA VISUALIZATION\n",
        "import matplotlib.pyplot as plt\n",
        "import seaborn as sns\n",
        "\n",
        "# DATA PREPROCESSING\n",
        "from sklearn.impute import SimpleImputer\n",
        "from sklearn.preprocessing import (\n",
        "    StandardScaler,\n",
        "    OneHotEncoder,\n",
        "    OrdinalEncoder\n",
        ")\n",
        "from sklearn.compose import ColumnTransformer\n",
        "from sklearn.pipeline import Pipeline\n",
        "\n",
        "# MACHINE LEARNING MODELS\n",
        "from sklearn.tree import DecisionTreeClassifier\n",
        "from sklearn.ensemble import RandomForestClassifier\n",
        "from ogboost import GradientBoostingOrdinal  # ordinal classification model\n",
        "\n",
        "#SPLITTING DATA SETS INTO TRAINING AND VALIDATION SETS\n",
        "from sklearn.model_selection import train_test_split\n",
        "\n",
        "# MODEL EVALUATION METRICS\n",
        "from sklearn.metrics import (\n",
        "    accuracy_score,\n",
        "    cohen_kappa_score,\n",
        "    confusion_matrix,\n",
        ")\n"
      ]
    },
    {
      "cell_type": "code",
      "execution_count": null,
      "metadata": {
        "colab": {
          "base_uri": "https://localhost:8080/",
          "height": 333
        },
        "id": "cgAFPRd0MLaU",
        "outputId": "6e957213-2829-4116-f8ba-0d7ecb51f332"
      },
      "outputs": [
        {
          "output_type": "error",
          "ename": "FileNotFoundError",
          "evalue": "[Errno 2] No such file or directory: '/content/Topic3_healthcare_analytics_dataset.csv'",
          "traceback": [
            "\u001b[0;31m---------------------------------------------------------------------------\u001b[0m",
            "\u001b[0;31mFileNotFoundError\u001b[0m                         Traceback (most recent call last)",
            "\u001b[0;32m/tmp/ipython-input-522181799.py\u001b[0m in \u001b[0;36m<cell line: 0>\u001b[0;34m()\u001b[0m\n\u001b[0;32m----> 1\u001b[0;31m \u001b[0mdf\u001b[0m \u001b[0;34m=\u001b[0m \u001b[0mpd\u001b[0m\u001b[0;34m.\u001b[0m\u001b[0mread_csv\u001b[0m\u001b[0;34m(\u001b[0m\u001b[0;34m\"/content/Topic3_healthcare_analytics_dataset.csv\"\u001b[0m\u001b[0;34m)\u001b[0m\u001b[0;34m\u001b[0m\u001b[0;34m\u001b[0m\u001b[0m\n\u001b[0m\u001b[1;32m      2\u001b[0m \u001b[0mdf\u001b[0m\u001b[0;34m.\u001b[0m\u001b[0mhead\u001b[0m\u001b[0;34m(\u001b[0m\u001b[0;34m)\u001b[0m\u001b[0;34m\u001b[0m\u001b[0;34m\u001b[0m\u001b[0m\n",
            "\u001b[0;32m/usr/local/lib/python3.12/dist-packages/pandas/io/parsers/readers.py\u001b[0m in \u001b[0;36mread_csv\u001b[0;34m(filepath_or_buffer, sep, delimiter, header, names, index_col, usecols, dtype, engine, converters, true_values, false_values, skipinitialspace, skiprows, skipfooter, nrows, na_values, keep_default_na, na_filter, verbose, skip_blank_lines, parse_dates, infer_datetime_format, keep_date_col, date_parser, date_format, dayfirst, cache_dates, iterator, chunksize, compression, thousands, decimal, lineterminator, quotechar, quoting, doublequote, escapechar, comment, encoding, encoding_errors, dialect, on_bad_lines, delim_whitespace, low_memory, memory_map, float_precision, storage_options, dtype_backend)\u001b[0m\n\u001b[1;32m   1024\u001b[0m     \u001b[0mkwds\u001b[0m\u001b[0;34m.\u001b[0m\u001b[0mupdate\u001b[0m\u001b[0;34m(\u001b[0m\u001b[0mkwds_defaults\u001b[0m\u001b[0;34m)\u001b[0m\u001b[0;34m\u001b[0m\u001b[0;34m\u001b[0m\u001b[0m\n\u001b[1;32m   1025\u001b[0m \u001b[0;34m\u001b[0m\u001b[0m\n\u001b[0;32m-> 1026\u001b[0;31m     \u001b[0;32mreturn\u001b[0m \u001b[0m_read\u001b[0m\u001b[0;34m(\u001b[0m\u001b[0mfilepath_or_buffer\u001b[0m\u001b[0;34m,\u001b[0m \u001b[0mkwds\u001b[0m\u001b[0;34m)\u001b[0m\u001b[0;34m\u001b[0m\u001b[0;34m\u001b[0m\u001b[0m\n\u001b[0m\u001b[1;32m   1027\u001b[0m \u001b[0;34m\u001b[0m\u001b[0m\n\u001b[1;32m   1028\u001b[0m \u001b[0;34m\u001b[0m\u001b[0m\n",
            "\u001b[0;32m/usr/local/lib/python3.12/dist-packages/pandas/io/parsers/readers.py\u001b[0m in \u001b[0;36m_read\u001b[0;34m(filepath_or_buffer, kwds)\u001b[0m\n\u001b[1;32m    618\u001b[0m \u001b[0;34m\u001b[0m\u001b[0m\n\u001b[1;32m    619\u001b[0m     \u001b[0;31m# Create the parser.\u001b[0m\u001b[0;34m\u001b[0m\u001b[0;34m\u001b[0m\u001b[0m\n\u001b[0;32m--> 620\u001b[0;31m     \u001b[0mparser\u001b[0m \u001b[0;34m=\u001b[0m \u001b[0mTextFileReader\u001b[0m\u001b[0;34m(\u001b[0m\u001b[0mfilepath_or_buffer\u001b[0m\u001b[0;34m,\u001b[0m \u001b[0;34m**\u001b[0m\u001b[0mkwds\u001b[0m\u001b[0;34m)\u001b[0m\u001b[0;34m\u001b[0m\u001b[0;34m\u001b[0m\u001b[0m\n\u001b[0m\u001b[1;32m    621\u001b[0m \u001b[0;34m\u001b[0m\u001b[0m\n\u001b[1;32m    622\u001b[0m     \u001b[0;32mif\u001b[0m \u001b[0mchunksize\u001b[0m \u001b[0;32mor\u001b[0m \u001b[0miterator\u001b[0m\u001b[0;34m:\u001b[0m\u001b[0;34m\u001b[0m\u001b[0;34m\u001b[0m\u001b[0m\n",
            "\u001b[0;32m/usr/local/lib/python3.12/dist-packages/pandas/io/parsers/readers.py\u001b[0m in \u001b[0;36m__init__\u001b[0;34m(self, f, engine, **kwds)\u001b[0m\n\u001b[1;32m   1618\u001b[0m \u001b[0;34m\u001b[0m\u001b[0m\n\u001b[1;32m   1619\u001b[0m         \u001b[0mself\u001b[0m\u001b[0;34m.\u001b[0m\u001b[0mhandles\u001b[0m\u001b[0;34m:\u001b[0m \u001b[0mIOHandles\u001b[0m \u001b[0;34m|\u001b[0m \u001b[0;32mNone\u001b[0m \u001b[0;34m=\u001b[0m \u001b[0;32mNone\u001b[0m\u001b[0;34m\u001b[0m\u001b[0;34m\u001b[0m\u001b[0m\n\u001b[0;32m-> 1620\u001b[0;31m         \u001b[0mself\u001b[0m\u001b[0;34m.\u001b[0m\u001b[0m_engine\u001b[0m \u001b[0;34m=\u001b[0m \u001b[0mself\u001b[0m\u001b[0;34m.\u001b[0m\u001b[0m_make_engine\u001b[0m\u001b[0;34m(\u001b[0m\u001b[0mf\u001b[0m\u001b[0;34m,\u001b[0m \u001b[0mself\u001b[0m\u001b[0;34m.\u001b[0m\u001b[0mengine\u001b[0m\u001b[0;34m)\u001b[0m\u001b[0;34m\u001b[0m\u001b[0;34m\u001b[0m\u001b[0m\n\u001b[0m\u001b[1;32m   1621\u001b[0m \u001b[0;34m\u001b[0m\u001b[0m\n\u001b[1;32m   1622\u001b[0m     \u001b[0;32mdef\u001b[0m \u001b[0mclose\u001b[0m\u001b[0;34m(\u001b[0m\u001b[0mself\u001b[0m\u001b[0;34m)\u001b[0m \u001b[0;34m->\u001b[0m \u001b[0;32mNone\u001b[0m\u001b[0;34m:\u001b[0m\u001b[0;34m\u001b[0m\u001b[0;34m\u001b[0m\u001b[0m\n",
            "\u001b[0;32m/usr/local/lib/python3.12/dist-packages/pandas/io/parsers/readers.py\u001b[0m in \u001b[0;36m_make_engine\u001b[0;34m(self, f, engine)\u001b[0m\n\u001b[1;32m   1878\u001b[0m                 \u001b[0;32mif\u001b[0m \u001b[0;34m\"b\"\u001b[0m \u001b[0;32mnot\u001b[0m \u001b[0;32min\u001b[0m \u001b[0mmode\u001b[0m\u001b[0;34m:\u001b[0m\u001b[0;34m\u001b[0m\u001b[0;34m\u001b[0m\u001b[0m\n\u001b[1;32m   1879\u001b[0m                     \u001b[0mmode\u001b[0m \u001b[0;34m+=\u001b[0m \u001b[0;34m\"b\"\u001b[0m\u001b[0;34m\u001b[0m\u001b[0;34m\u001b[0m\u001b[0m\n\u001b[0;32m-> 1880\u001b[0;31m             self.handles = get_handle(\n\u001b[0m\u001b[1;32m   1881\u001b[0m                 \u001b[0mf\u001b[0m\u001b[0;34m,\u001b[0m\u001b[0;34m\u001b[0m\u001b[0;34m\u001b[0m\u001b[0m\n\u001b[1;32m   1882\u001b[0m                 \u001b[0mmode\u001b[0m\u001b[0;34m,\u001b[0m\u001b[0;34m\u001b[0m\u001b[0;34m\u001b[0m\u001b[0m\n",
            "\u001b[0;32m/usr/local/lib/python3.12/dist-packages/pandas/io/common.py\u001b[0m in \u001b[0;36mget_handle\u001b[0;34m(path_or_buf, mode, encoding, compression, memory_map, is_text, errors, storage_options)\u001b[0m\n\u001b[1;32m    871\u001b[0m         \u001b[0;32mif\u001b[0m \u001b[0mioargs\u001b[0m\u001b[0;34m.\u001b[0m\u001b[0mencoding\u001b[0m \u001b[0;32mand\u001b[0m \u001b[0;34m\"b\"\u001b[0m \u001b[0;32mnot\u001b[0m \u001b[0;32min\u001b[0m \u001b[0mioargs\u001b[0m\u001b[0;34m.\u001b[0m\u001b[0mmode\u001b[0m\u001b[0;34m:\u001b[0m\u001b[0;34m\u001b[0m\u001b[0;34m\u001b[0m\u001b[0m\n\u001b[1;32m    872\u001b[0m             \u001b[0;31m# Encoding\u001b[0m\u001b[0;34m\u001b[0m\u001b[0;34m\u001b[0m\u001b[0m\n\u001b[0;32m--> 873\u001b[0;31m             handle = open(\n\u001b[0m\u001b[1;32m    874\u001b[0m                 \u001b[0mhandle\u001b[0m\u001b[0;34m,\u001b[0m\u001b[0;34m\u001b[0m\u001b[0;34m\u001b[0m\u001b[0m\n\u001b[1;32m    875\u001b[0m                 \u001b[0mioargs\u001b[0m\u001b[0;34m.\u001b[0m\u001b[0mmode\u001b[0m\u001b[0;34m,\u001b[0m\u001b[0;34m\u001b[0m\u001b[0;34m\u001b[0m\u001b[0m\n",
            "\u001b[0;31mFileNotFoundError\u001b[0m: [Errno 2] No such file or directory: '/content/Topic3_healthcare_analytics_dataset.csv'"
          ]
        }
      ],
      "source": [
        "df = pd.read_csv(\"/content/Topic3_healthcare_analytics_dataset.csv\")\n",
        "df.head()"
      ]
    },
    {
      "cell_type": "markdown",
      "metadata": {
        "id": "cc8JlDSrzz-i"
      },
      "source": [
        "### 2.2 Inspecting Data"
      ]
    },
    {
      "cell_type": "code",
      "execution_count": null,
      "metadata": {
        "colab": {
          "base_uri": "https://localhost:8080/"
        },
        "id": "Bq4lQqraOStf",
        "outputId": "da1dbe8b-6874-45a8-da8e-dc52b9bc65d6"
      },
      "outputs": [
        {
          "output_type": "execute_result",
          "data": {
            "text/plain": [
              "(455495, 18)"
            ]
          },
          "metadata": {},
          "execution_count": 87
        }
      ],
      "source": [
        "df.shape"
      ]
    },
    {
      "cell_type": "code",
      "execution_count": null,
      "metadata": {
        "colab": {
          "base_uri": "https://localhost:8080/"
        },
        "id": "tno2Jkp5SYTx",
        "outputId": "52fc22cc-e5bd-439d-8e38-c1594f0be8eb"
      },
      "outputs": [
        {
          "output_type": "execute_result",
          "data": {
            "text/plain": [
              "True"
            ]
          },
          "metadata": {},
          "execution_count": 88
        }
      ],
      "source": [
        "# case_id should be unique. Checking that there is no duplicate:\n",
        "\n",
        "df['case_id'].is_unique"
      ]
    },
    {
      "cell_type": "code",
      "execution_count": null,
      "metadata": {
        "colab": {
          "base_uri": "https://localhost:8080/",
          "height": 648
        },
        "id": "LZmmad_tOTqi",
        "outputId": "532bce7a-96f2-496e-93ae-e2e31653cbe5"
      },
      "outputs": [
        {
          "output_type": "execute_result",
          "data": {
            "text/plain": [
              "case_id                                int64\n",
              "Hospital_code                          int64\n",
              "Hospital_type_code                    object\n",
              "City_Code_Hospital                     int64\n",
              "Hospital_region_code                  object\n",
              "Available Extra Rooms in Hospital      int64\n",
              "Department                            object\n",
              "Ward_Type                             object\n",
              "Ward_Facility_Code                    object\n",
              "Bed Grade                            float64\n",
              "patientid                              int64\n",
              "City_Code_Patient                    float64\n",
              "Type of Admission                     object\n",
              "Severity of Illness                   object\n",
              "Visitors with Patient                  int64\n",
              "Age                                   object\n",
              "Admission_Deposit                    float64\n",
              "Stay                                  object\n",
              "dtype: object"
            ],
            "text/html": [
              "<div>\n",
              "<style scoped>\n",
              "    .dataframe tbody tr th:only-of-type {\n",
              "        vertical-align: middle;\n",
              "    }\n",
              "\n",
              "    .dataframe tbody tr th {\n",
              "        vertical-align: top;\n",
              "    }\n",
              "\n",
              "    .dataframe thead th {\n",
              "        text-align: right;\n",
              "    }\n",
              "</style>\n",
              "<table border=\"1\" class=\"dataframe\">\n",
              "  <thead>\n",
              "    <tr style=\"text-align: right;\">\n",
              "      <th></th>\n",
              "      <th>0</th>\n",
              "    </tr>\n",
              "  </thead>\n",
              "  <tbody>\n",
              "    <tr>\n",
              "      <th>case_id</th>\n",
              "      <td>int64</td>\n",
              "    </tr>\n",
              "    <tr>\n",
              "      <th>Hospital_code</th>\n",
              "      <td>int64</td>\n",
              "    </tr>\n",
              "    <tr>\n",
              "      <th>Hospital_type_code</th>\n",
              "      <td>object</td>\n",
              "    </tr>\n",
              "    <tr>\n",
              "      <th>City_Code_Hospital</th>\n",
              "      <td>int64</td>\n",
              "    </tr>\n",
              "    <tr>\n",
              "      <th>Hospital_region_code</th>\n",
              "      <td>object</td>\n",
              "    </tr>\n",
              "    <tr>\n",
              "      <th>Available Extra Rooms in Hospital</th>\n",
              "      <td>int64</td>\n",
              "    </tr>\n",
              "    <tr>\n",
              "      <th>Department</th>\n",
              "      <td>object</td>\n",
              "    </tr>\n",
              "    <tr>\n",
              "      <th>Ward_Type</th>\n",
              "      <td>object</td>\n",
              "    </tr>\n",
              "    <tr>\n",
              "      <th>Ward_Facility_Code</th>\n",
              "      <td>object</td>\n",
              "    </tr>\n",
              "    <tr>\n",
              "      <th>Bed Grade</th>\n",
              "      <td>float64</td>\n",
              "    </tr>\n",
              "    <tr>\n",
              "      <th>patientid</th>\n",
              "      <td>int64</td>\n",
              "    </tr>\n",
              "    <tr>\n",
              "      <th>City_Code_Patient</th>\n",
              "      <td>float64</td>\n",
              "    </tr>\n",
              "    <tr>\n",
              "      <th>Type of Admission</th>\n",
              "      <td>object</td>\n",
              "    </tr>\n",
              "    <tr>\n",
              "      <th>Severity of Illness</th>\n",
              "      <td>object</td>\n",
              "    </tr>\n",
              "    <tr>\n",
              "      <th>Visitors with Patient</th>\n",
              "      <td>int64</td>\n",
              "    </tr>\n",
              "    <tr>\n",
              "      <th>Age</th>\n",
              "      <td>object</td>\n",
              "    </tr>\n",
              "    <tr>\n",
              "      <th>Admission_Deposit</th>\n",
              "      <td>float64</td>\n",
              "    </tr>\n",
              "    <tr>\n",
              "      <th>Stay</th>\n",
              "      <td>object</td>\n",
              "    </tr>\n",
              "  </tbody>\n",
              "</table>\n",
              "</div><br><label><b>dtype:</b> object</label>"
            ]
          },
          "metadata": {},
          "execution_count": 89
        }
      ],
      "source": [
        "df.dtypes"
      ]
    },
    {
      "cell_type": "markdown",
      "metadata": {
        "id": "GT_lOe4O_Ops"
      },
      "source": [
        "We have mostly categorical features, except Admission Deposit and available extra room. These numerical features might need to be normilized to not skew the ML models results.\n",
        "\n",
        "Note: some of these columns have a numerical type but are in fact categorical variables, so their type should be changed to object to be more exact (Hospital_code for example)."
      ]
    },
    {
      "cell_type": "code",
      "execution_count": null,
      "metadata": {
        "colab": {
          "base_uri": "https://localhost:8080/",
          "height": 317
        },
        "id": "RF6GYQVbOgYZ",
        "outputId": "b9e62cc8-e034-4101-a064-9910e628c689"
      },
      "outputs": [
        {
          "output_type": "execute_result",
          "data": {
            "text/plain": [
              "            case_id  Hospital_code  City_Code_Hospital  \\\n",
              "count  455495.00000  455495.000000       455495.000000   \n",
              "mean   227748.00000      18.326335            4.767798   \n",
              "std    131490.22477       8.634036            3.102450   \n",
              "min         1.00000       1.000000            1.000000   \n",
              "25%    113874.50000      11.000000            2.000000   \n",
              "50%    227748.00000      19.000000            5.000000   \n",
              "75%    341621.50000      26.000000            7.000000   \n",
              "max    455495.00000      32.000000           13.000000   \n",
              "\n",
              "       Available Extra Rooms in Hospital      Bed Grade      patientid  \\\n",
              "count                      455495.000000  455347.000000  455495.000000   \n",
              "mean                            3.196140       2.628420   65786.793563   \n",
              "std                             1.166994       0.871997   37968.830850   \n",
              "min                             0.000000       1.000000       1.000000   \n",
              "25%                             2.000000       2.000000   32874.000000   \n",
              "50%                             3.000000       3.000000   65735.000000   \n",
              "75%                             4.000000       3.000000   98576.500000   \n",
              "max                            24.000000       4.000000  131624.000000   \n",
              "\n",
              "       City_Code_Patient  Visitors with Patient  Admission_Deposit  \n",
              "count      448806.000000          455495.000000      455495.000000  \n",
              "mean            7.249495               3.284229        4877.434022  \n",
              "std             4.758941               1.768044        1084.982089  \n",
              "min             1.000000               0.000000        1800.000000  \n",
              "25%             4.000000               2.000000        4184.000000  \n",
              "50%             8.000000               3.000000        4738.000000  \n",
              "75%             8.000000               4.000000        5405.000000  \n",
              "max            38.000000              32.000000       11920.000000  "
            ],
            "text/html": [
              "\n",
              "  <div id=\"df-48c6c90e-7e16-4962-bbb9-f70b740b2183\" class=\"colab-df-container\">\n",
              "    <div>\n",
              "<style scoped>\n",
              "    .dataframe tbody tr th:only-of-type {\n",
              "        vertical-align: middle;\n",
              "    }\n",
              "\n",
              "    .dataframe tbody tr th {\n",
              "        vertical-align: top;\n",
              "    }\n",
              "\n",
              "    .dataframe thead th {\n",
              "        text-align: right;\n",
              "    }\n",
              "</style>\n",
              "<table border=\"1\" class=\"dataframe\">\n",
              "  <thead>\n",
              "    <tr style=\"text-align: right;\">\n",
              "      <th></th>\n",
              "      <th>case_id</th>\n",
              "      <th>Hospital_code</th>\n",
              "      <th>City_Code_Hospital</th>\n",
              "      <th>Available Extra Rooms in Hospital</th>\n",
              "      <th>Bed Grade</th>\n",
              "      <th>patientid</th>\n",
              "      <th>City_Code_Patient</th>\n",
              "      <th>Visitors with Patient</th>\n",
              "      <th>Admission_Deposit</th>\n",
              "    </tr>\n",
              "  </thead>\n",
              "  <tbody>\n",
              "    <tr>\n",
              "      <th>count</th>\n",
              "      <td>455495.00000</td>\n",
              "      <td>455495.000000</td>\n",
              "      <td>455495.000000</td>\n",
              "      <td>455495.000000</td>\n",
              "      <td>455347.000000</td>\n",
              "      <td>455495.000000</td>\n",
              "      <td>448806.000000</td>\n",
              "      <td>455495.000000</td>\n",
              "      <td>455495.000000</td>\n",
              "    </tr>\n",
              "    <tr>\n",
              "      <th>mean</th>\n",
              "      <td>227748.00000</td>\n",
              "      <td>18.326335</td>\n",
              "      <td>4.767798</td>\n",
              "      <td>3.196140</td>\n",
              "      <td>2.628420</td>\n",
              "      <td>65786.793563</td>\n",
              "      <td>7.249495</td>\n",
              "      <td>3.284229</td>\n",
              "      <td>4877.434022</td>\n",
              "    </tr>\n",
              "    <tr>\n",
              "      <th>std</th>\n",
              "      <td>131490.22477</td>\n",
              "      <td>8.634036</td>\n",
              "      <td>3.102450</td>\n",
              "      <td>1.166994</td>\n",
              "      <td>0.871997</td>\n",
              "      <td>37968.830850</td>\n",
              "      <td>4.758941</td>\n",
              "      <td>1.768044</td>\n",
              "      <td>1084.982089</td>\n",
              "    </tr>\n",
              "    <tr>\n",
              "      <th>min</th>\n",
              "      <td>1.00000</td>\n",
              "      <td>1.000000</td>\n",
              "      <td>1.000000</td>\n",
              "      <td>0.000000</td>\n",
              "      <td>1.000000</td>\n",
              "      <td>1.000000</td>\n",
              "      <td>1.000000</td>\n",
              "      <td>0.000000</td>\n",
              "      <td>1800.000000</td>\n",
              "    </tr>\n",
              "    <tr>\n",
              "      <th>25%</th>\n",
              "      <td>113874.50000</td>\n",
              "      <td>11.000000</td>\n",
              "      <td>2.000000</td>\n",
              "      <td>2.000000</td>\n",
              "      <td>2.000000</td>\n",
              "      <td>32874.000000</td>\n",
              "      <td>4.000000</td>\n",
              "      <td>2.000000</td>\n",
              "      <td>4184.000000</td>\n",
              "    </tr>\n",
              "    <tr>\n",
              "      <th>50%</th>\n",
              "      <td>227748.00000</td>\n",
              "      <td>19.000000</td>\n",
              "      <td>5.000000</td>\n",
              "      <td>3.000000</td>\n",
              "      <td>3.000000</td>\n",
              "      <td>65735.000000</td>\n",
              "      <td>8.000000</td>\n",
              "      <td>3.000000</td>\n",
              "      <td>4738.000000</td>\n",
              "    </tr>\n",
              "    <tr>\n",
              "      <th>75%</th>\n",
              "      <td>341621.50000</td>\n",
              "      <td>26.000000</td>\n",
              "      <td>7.000000</td>\n",
              "      <td>4.000000</td>\n",
              "      <td>3.000000</td>\n",
              "      <td>98576.500000</td>\n",
              "      <td>8.000000</td>\n",
              "      <td>4.000000</td>\n",
              "      <td>5405.000000</td>\n",
              "    </tr>\n",
              "    <tr>\n",
              "      <th>max</th>\n",
              "      <td>455495.00000</td>\n",
              "      <td>32.000000</td>\n",
              "      <td>13.000000</td>\n",
              "      <td>24.000000</td>\n",
              "      <td>4.000000</td>\n",
              "      <td>131624.000000</td>\n",
              "      <td>38.000000</td>\n",
              "      <td>32.000000</td>\n",
              "      <td>11920.000000</td>\n",
              "    </tr>\n",
              "  </tbody>\n",
              "</table>\n",
              "</div>\n",
              "    <div class=\"colab-df-buttons\">\n",
              "\n",
              "  <div class=\"colab-df-container\">\n",
              "    <button class=\"colab-df-convert\" onclick=\"convertToInteractive('df-48c6c90e-7e16-4962-bbb9-f70b740b2183')\"\n",
              "            title=\"Convert this dataframe to an interactive table.\"\n",
              "            style=\"display:none;\">\n",
              "\n",
              "  <svg xmlns=\"http://www.w3.org/2000/svg\" height=\"24px\" viewBox=\"0 -960 960 960\">\n",
              "    <path d=\"M120-120v-720h720v720H120Zm60-500h600v-160H180v160Zm220 220h160v-160H400v160Zm0 220h160v-160H400v160ZM180-400h160v-160H180v160Zm440 0h160v-160H620v160ZM180-180h160v-160H180v160Zm440 0h160v-160H620v160Z\"/>\n",
              "  </svg>\n",
              "    </button>\n",
              "\n",
              "  <style>\n",
              "    .colab-df-container {\n",
              "      display:flex;\n",
              "      gap: 12px;\n",
              "    }\n",
              "\n",
              "    .colab-df-convert {\n",
              "      background-color: #E8F0FE;\n",
              "      border: none;\n",
              "      border-radius: 50%;\n",
              "      cursor: pointer;\n",
              "      display: none;\n",
              "      fill: #1967D2;\n",
              "      height: 32px;\n",
              "      padding: 0 0 0 0;\n",
              "      width: 32px;\n",
              "    }\n",
              "\n",
              "    .colab-df-convert:hover {\n",
              "      background-color: #E2EBFA;\n",
              "      box-shadow: 0px 1px 2px rgba(60, 64, 67, 0.3), 0px 1px 3px 1px rgba(60, 64, 67, 0.15);\n",
              "      fill: #174EA6;\n",
              "    }\n",
              "\n",
              "    .colab-df-buttons div {\n",
              "      margin-bottom: 4px;\n",
              "    }\n",
              "\n",
              "    [theme=dark] .colab-df-convert {\n",
              "      background-color: #3B4455;\n",
              "      fill: #D2E3FC;\n",
              "    }\n",
              "\n",
              "    [theme=dark] .colab-df-convert:hover {\n",
              "      background-color: #434B5C;\n",
              "      box-shadow: 0px 1px 3px 1px rgba(0, 0, 0, 0.15);\n",
              "      filter: drop-shadow(0px 1px 2px rgba(0, 0, 0, 0.3));\n",
              "      fill: #FFFFFF;\n",
              "    }\n",
              "  </style>\n",
              "\n",
              "    <script>\n",
              "      const buttonEl =\n",
              "        document.querySelector('#df-48c6c90e-7e16-4962-bbb9-f70b740b2183 button.colab-df-convert');\n",
              "      buttonEl.style.display =\n",
              "        google.colab.kernel.accessAllowed ? 'block' : 'none';\n",
              "\n",
              "      async function convertToInteractive(key) {\n",
              "        const element = document.querySelector('#df-48c6c90e-7e16-4962-bbb9-f70b740b2183');\n",
              "        const dataTable =\n",
              "          await google.colab.kernel.invokeFunction('convertToInteractive',\n",
              "                                                    [key], {});\n",
              "        if (!dataTable) return;\n",
              "\n",
              "        const docLinkHtml = 'Like what you see? Visit the ' +\n",
              "          '<a target=\"_blank\" href=https://colab.research.google.com/notebooks/data_table.ipynb>data table notebook</a>'\n",
              "          + ' to learn more about interactive tables.';\n",
              "        element.innerHTML = '';\n",
              "        dataTable['output_type'] = 'display_data';\n",
              "        await google.colab.output.renderOutput(dataTable, element);\n",
              "        const docLink = document.createElement('div');\n",
              "        docLink.innerHTML = docLinkHtml;\n",
              "        element.appendChild(docLink);\n",
              "      }\n",
              "    </script>\n",
              "  </div>\n",
              "\n",
              "\n",
              "    <div id=\"df-b8d27484-800f-4253-94ba-83c8ec15a50c\">\n",
              "      <button class=\"colab-df-quickchart\" onclick=\"quickchart('df-b8d27484-800f-4253-94ba-83c8ec15a50c')\"\n",
              "                title=\"Suggest charts\"\n",
              "                style=\"display:none;\">\n",
              "\n",
              "<svg xmlns=\"http://www.w3.org/2000/svg\" height=\"24px\"viewBox=\"0 0 24 24\"\n",
              "     width=\"24px\">\n",
              "    <g>\n",
              "        <path d=\"M19 3H5c-1.1 0-2 .9-2 2v14c0 1.1.9 2 2 2h14c1.1 0 2-.9 2-2V5c0-1.1-.9-2-2-2zM9 17H7v-7h2v7zm4 0h-2V7h2v10zm4 0h-2v-4h2v4z\"/>\n",
              "    </g>\n",
              "</svg>\n",
              "      </button>\n",
              "\n",
              "<style>\n",
              "  .colab-df-quickchart {\n",
              "      --bg-color: #E8F0FE;\n",
              "      --fill-color: #1967D2;\n",
              "      --hover-bg-color: #E2EBFA;\n",
              "      --hover-fill-color: #174EA6;\n",
              "      --disabled-fill-color: #AAA;\n",
              "      --disabled-bg-color: #DDD;\n",
              "  }\n",
              "\n",
              "  [theme=dark] .colab-df-quickchart {\n",
              "      --bg-color: #3B4455;\n",
              "      --fill-color: #D2E3FC;\n",
              "      --hover-bg-color: #434B5C;\n",
              "      --hover-fill-color: #FFFFFF;\n",
              "      --disabled-bg-color: #3B4455;\n",
              "      --disabled-fill-color: #666;\n",
              "  }\n",
              "\n",
              "  .colab-df-quickchart {\n",
              "    background-color: var(--bg-color);\n",
              "    border: none;\n",
              "    border-radius: 50%;\n",
              "    cursor: pointer;\n",
              "    display: none;\n",
              "    fill: var(--fill-color);\n",
              "    height: 32px;\n",
              "    padding: 0;\n",
              "    width: 32px;\n",
              "  }\n",
              "\n",
              "  .colab-df-quickchart:hover {\n",
              "    background-color: var(--hover-bg-color);\n",
              "    box-shadow: 0 1px 2px rgba(60, 64, 67, 0.3), 0 1px 3px 1px rgba(60, 64, 67, 0.15);\n",
              "    fill: var(--button-hover-fill-color);\n",
              "  }\n",
              "\n",
              "  .colab-df-quickchart-complete:disabled,\n",
              "  .colab-df-quickchart-complete:disabled:hover {\n",
              "    background-color: var(--disabled-bg-color);\n",
              "    fill: var(--disabled-fill-color);\n",
              "    box-shadow: none;\n",
              "  }\n",
              "\n",
              "  .colab-df-spinner {\n",
              "    border: 2px solid var(--fill-color);\n",
              "    border-color: transparent;\n",
              "    border-bottom-color: var(--fill-color);\n",
              "    animation:\n",
              "      spin 1s steps(1) infinite;\n",
              "  }\n",
              "\n",
              "  @keyframes spin {\n",
              "    0% {\n",
              "      border-color: transparent;\n",
              "      border-bottom-color: var(--fill-color);\n",
              "      border-left-color: var(--fill-color);\n",
              "    }\n",
              "    20% {\n",
              "      border-color: transparent;\n",
              "      border-left-color: var(--fill-color);\n",
              "      border-top-color: var(--fill-color);\n",
              "    }\n",
              "    30% {\n",
              "      border-color: transparent;\n",
              "      border-left-color: var(--fill-color);\n",
              "      border-top-color: var(--fill-color);\n",
              "      border-right-color: var(--fill-color);\n",
              "    }\n",
              "    40% {\n",
              "      border-color: transparent;\n",
              "      border-right-color: var(--fill-color);\n",
              "      border-top-color: var(--fill-color);\n",
              "    }\n",
              "    60% {\n",
              "      border-color: transparent;\n",
              "      border-right-color: var(--fill-color);\n",
              "    }\n",
              "    80% {\n",
              "      border-color: transparent;\n",
              "      border-right-color: var(--fill-color);\n",
              "      border-bottom-color: var(--fill-color);\n",
              "    }\n",
              "    90% {\n",
              "      border-color: transparent;\n",
              "      border-bottom-color: var(--fill-color);\n",
              "    }\n",
              "  }\n",
              "</style>\n",
              "\n",
              "      <script>\n",
              "        async function quickchart(key) {\n",
              "          const quickchartButtonEl =\n",
              "            document.querySelector('#' + key + ' button');\n",
              "          quickchartButtonEl.disabled = true;  // To prevent multiple clicks.\n",
              "          quickchartButtonEl.classList.add('colab-df-spinner');\n",
              "          try {\n",
              "            const charts = await google.colab.kernel.invokeFunction(\n",
              "                'suggestCharts', [key], {});\n",
              "          } catch (error) {\n",
              "            console.error('Error during call to suggestCharts:', error);\n",
              "          }\n",
              "          quickchartButtonEl.classList.remove('colab-df-spinner');\n",
              "          quickchartButtonEl.classList.add('colab-df-quickchart-complete');\n",
              "        }\n",
              "        (() => {\n",
              "          let quickchartButtonEl =\n",
              "            document.querySelector('#df-b8d27484-800f-4253-94ba-83c8ec15a50c button');\n",
              "          quickchartButtonEl.style.display =\n",
              "            google.colab.kernel.accessAllowed ? 'block' : 'none';\n",
              "        })();\n",
              "      </script>\n",
              "    </div>\n",
              "\n",
              "    </div>\n",
              "  </div>\n"
            ],
            "application/vnd.google.colaboratory.intrinsic+json": {
              "type": "dataframe",
              "summary": "{\n  \"name\": \"df\",\n  \"rows\": 8,\n  \"fields\": [\n    {\n      \"column\": \"case_id\",\n      \"properties\": {\n        \"dtype\": \"number\",\n        \"std\": 164162.29700032398,\n        \"min\": 1.0,\n        \"max\": 455495.0,\n        \"num_unique_values\": 6,\n        \"samples\": [\n          455495.0,\n          227748.0,\n          341621.5\n        ],\n        \"semantic_type\": \"\",\n        \"description\": \"\"\n      }\n    },\n    {\n      \"column\": \"Hospital_code\",\n      \"properties\": {\n        \"dtype\": \"number\",\n        \"std\": 161035.9450633641,\n        \"min\": 1.0,\n        \"max\": 455495.0,\n        \"num_unique_values\": 8,\n        \"samples\": [\n          18.326335086005336,\n          19.0,\n          455495.0\n        ],\n        \"semantic_type\": \"\",\n        \"description\": \"\"\n      }\n    },\n    {\n      \"column\": \"City_Code_Hospital\",\n      \"properties\": {\n        \"dtype\": \"number\",\n        \"std\": 161039.98996999682,\n        \"min\": 1.0,\n        \"max\": 455495.0,\n        \"num_unique_values\": 8,\n        \"samples\": [\n          4.767797670665979,\n          5.0,\n          455495.0\n        ],\n        \"semantic_type\": \"\",\n        \"description\": \"\"\n      }\n    },\n    {\n      \"column\": \"Available Extra Rooms in Hospital\",\n      \"properties\": {\n        \"dtype\": \"number\",\n        \"std\": 161039.91471005304,\n        \"min\": 0.0,\n        \"max\": 455495.0,\n        \"num_unique_values\": 8,\n        \"samples\": [\n          3.1961404625736836,\n          3.0,\n          455495.0\n        ],\n        \"semantic_type\": \"\",\n        \"description\": \"\"\n      }\n    },\n    {\n      \"column\": \"Bed Grade\",\n      \"properties\": {\n        \"dtype\": \"number\",\n        \"std\": 160988.64235303705,\n        \"min\": 0.8719968949300558,\n        \"max\": 455347.0,\n        \"num_unique_values\": 7,\n        \"samples\": [\n          455347.0,\n          2.6284196447983628,\n          3.0\n        ],\n        \"semantic_type\": \"\",\n        \"description\": \"\"\n      }\n    },\n    {\n      \"column\": \"patientid\",\n      \"properties\": {\n        \"dtype\": \"number\",\n        \"std\": 144966.82038708258,\n        \"min\": 1.0,\n        \"max\": 455495.0,\n        \"num_unique_values\": 8,\n        \"samples\": [\n          65786.7935630468,\n          65735.0,\n          455495.0\n        ],\n        \"semantic_type\": \"\",\n        \"description\": \"\"\n      }\n    },\n    {\n      \"column\": \"City_Code_Patient\",\n      \"properties\": {\n        \"dtype\": \"number\",\n        \"std\": 158673.29697587728,\n        \"min\": 1.0,\n        \"max\": 448806.0,\n        \"num_unique_values\": 7,\n        \"samples\": [\n          448806.0,\n          7.249495327602572,\n          8.0\n        ],\n        \"semantic_type\": \"\",\n        \"description\": \"\"\n      }\n    },\n    {\n      \"column\": \"Visitors with Patient\",\n      \"properties\": {\n        \"dtype\": \"number\",\n        \"std\": 161039.47599606615,\n        \"min\": 0.0,\n        \"max\": 455495.0,\n        \"num_unique_values\": 8,\n        \"samples\": [\n          3.2842292451069715,\n          3.0,\n          455495.0\n        ],\n        \"semantic_type\": \"\",\n        \"description\": \"\"\n      }\n    },\n    {\n      \"column\": \"Admission_Deposit\",\n      \"properties\": {\n        \"dtype\": \"number\",\n        \"std\": 159357.34095991877,\n        \"min\": 1084.982089029258,\n        \"max\": 455495.0,\n        \"num_unique_values\": 8,\n        \"samples\": [\n          4877.434022327358,\n          4738.0,\n          455495.0\n        ],\n        \"semantic_type\": \"\",\n        \"description\": \"\"\n      }\n    }\n  ]\n}"
            }
          },
          "metadata": {},
          "execution_count": 90
        }
      ],
      "source": [
        "df.describe()"
      ]
    },
    {
      "cell_type": "code",
      "execution_count": null,
      "metadata": {
        "colab": {
          "base_uri": "https://localhost:8080/"
        },
        "id": "C3K_F5i7PItr",
        "outputId": "51e61d23-ee0b-44b2-f323-2f27d23896c3"
      },
      "outputs": [
        {
          "output_type": "stream",
          "name": "stdout",
          "text": [
            "<class 'pandas.core.frame.DataFrame'>\n",
            "RangeIndex: 455495 entries, 0 to 455494\n",
            "Data columns (total 18 columns):\n",
            " #   Column                             Non-Null Count   Dtype  \n",
            "---  ------                             --------------   -----  \n",
            " 0   case_id                            455495 non-null  int64  \n",
            " 1   Hospital_code                      455495 non-null  int64  \n",
            " 2   Hospital_type_code                 455495 non-null  object \n",
            " 3   City_Code_Hospital                 455495 non-null  int64  \n",
            " 4   Hospital_region_code               455495 non-null  object \n",
            " 5   Available Extra Rooms in Hospital  455495 non-null  int64  \n",
            " 6   Department                         455495 non-null  object \n",
            " 7   Ward_Type                          455495 non-null  object \n",
            " 8   Ward_Facility_Code                 455495 non-null  object \n",
            " 9   Bed Grade                          455347 non-null  float64\n",
            " 10  patientid                          455495 non-null  int64  \n",
            " 11  City_Code_Patient                  448806 non-null  float64\n",
            " 12  Type of Admission                  455495 non-null  object \n",
            " 13  Severity of Illness                455495 non-null  object \n",
            " 14  Visitors with Patient              455495 non-null  int64  \n",
            " 15  Age                                455495 non-null  object \n",
            " 16  Admission_Deposit                  455495 non-null  float64\n",
            " 17  Stay                               318438 non-null  object \n",
            "dtypes: float64(3), int64(6), object(9)\n",
            "memory usage: 62.6+ MB\n"
          ]
        }
      ],
      "source": [
        "df.info()"
      ]
    },
    {
      "cell_type": "markdown",
      "metadata": {
        "id": "ZWIczNHSBsiB"
      },
      "source": [
        "## 3. Exploratory Data Analysis (EDA)\n",
        "\n",
        "Goal: Understand data patterns, distributions, and relationships.\n",
        "You’d do:\n",
        "* Univariate analysis: distributions of LOS, age, diagnosis codes, etc.\n",
        "* Bivariate analysis: correlation between LOS and features (e.g., comorbidities, lab results)\n",
        "* Identify outliers or anomalies.\n",
        "* Visualizations (histograms, boxplots, correlation heatmaps).\n",
        "\n",
        "Why: EDA helps you spot trends and data quality issues early — it informs feature engineering later."
      ]
    },
    {
      "cell_type": "markdown",
      "metadata": {
        "id": "kGKtFePp4DPJ"
      },
      "source": [
        "### 3.1 Target Analysis\n",
        "Check distribution of each feature"
      ]
    },
    {
      "cell_type": "markdown",
      "metadata": {
        "id": "yaYs9zk2A2lX"
      },
      "source": [
        "#### Hospital Stay Duration Distribution"
      ]
    },
    {
      "cell_type": "code",
      "execution_count": null,
      "metadata": {
        "colab": {
          "base_uri": "https://localhost:8080/",
          "height": 660
        },
        "id": "RJ7DcSg4f7ZE",
        "outputId": "aad9435d-ee0e-4d3b-adc9-83b67463dc7f"
      },
      "outputs": [
        {
          "output_type": "display_data",
          "data": {
            "text/plain": [
              "<Figure size 1000x600 with 1 Axes>"
            ],
            "image/png": "[encoded data removed]"
          },
          "metadata": {}
        }
      ],
      "source": [
        "#Define the order of categories in 'Stay'.\n",
        "stay_order = ['0-10', '11-20', '21-30', '31-40', '41-50',\n",
        "              '51-60', '61-70', '71-80', '81-90', '91-100', 'More than 100 Days']\n",
        "\n",
        "df['Stay'] = pd.Categorical(df['Stay'], categories=stay_order, ordered=True)\n",
        "\n",
        "#Distribution of target variable 'stay'. Checking for imbalance.\n",
        "plt.figure(figsize=(10, 6))\n",
        "sns.countplot(x='Stay', data=df, order=stay_order)\n",
        "plt.title(\"Distribution of Hospital Stay Durations\", fontsize=14)\n",
        "plt.xlabel(\"Stay Duration\")\n",
        "plt.ylabel(\"Number of Patients\")\n",
        "plt.xticks(rotation=45)\n",
        "plt.grid(axis='y')\n",
        "plt.show()"
      ]
    },
    {
      "cell_type": "code",
      "execution_count": null,
      "metadata": {
        "colab": {
          "base_uri": "https://localhost:8080/",
          "height": 460
        },
        "id": "2iQy_vzDSxgx",
        "outputId": "c360d35b-bc00-4d4a-c647-1b83acf91670"
      },
      "outputs": [
        {
          "output_type": "execute_result",
          "data": {
            "text/plain": [
              "Stay\n",
              "21-30                 27.48%\n",
              "11-20                 24.54%\n",
              "31-40                 17.32%\n",
              "51-60                  11.0%\n",
              "0-10                   7.41%\n",
              "41-50                  3.69%\n",
              "71-80                  3.22%\n",
              "More than 100 Days      2.1%\n",
              "81-90                  1.52%\n",
              "91-100                 0.87%\n",
              "61-70                  0.86%\n",
              "Name: proportion, dtype: object"
            ],
            "text/html": [
              "<div>\n",
              "<style scoped>\n",
              "    .dataframe tbody tr th:only-of-type {\n",
              "        vertical-align: middle;\n",
              "    }\n",
              "\n",
              "    .dataframe tbody tr th {\n",
              "        vertical-align: top;\n",
              "    }\n",
              "\n",
              "    .dataframe thead th {\n",
              "        text-align: right;\n",
              "    }\n",
              "</style>\n",
              "<table border=\"1\" class=\"dataframe\">\n",
              "  <thead>\n",
              "    <tr style=\"text-align: right;\">\n",
              "      <th></th>\n",
              "      <th>proportion</th>\n",
              "    </tr>\n",
              "    <tr>\n",
              "      <th>Stay</th>\n",
              "      <th></th>\n",
              "    </tr>\n",
              "  </thead>\n",
              "  <tbody>\n",
              "    <tr>\n",
              "      <th>21-30</th>\n",
              "      <td>27.48%</td>\n",
              "    </tr>\n",
              "    <tr>\n",
              "      <th>11-20</th>\n",
              "      <td>24.54%</td>\n",
              "    </tr>\n",
              "    <tr>\n",
              "      <th>31-40</th>\n",
              "      <td>17.32%</td>\n",
              "    </tr>\n",
              "    <tr>\n",
              "      <th>51-60</th>\n",
              "      <td>11.0%</td>\n",
              "    </tr>\n",
              "    <tr>\n",
              "      <th>0-10</th>\n",
              "      <td>7.41%</td>\n",
              "    </tr>\n",
              "    <tr>\n",
              "      <th>41-50</th>\n",
              "      <td>3.69%</td>\n",
              "    </tr>\n",
              "    <tr>\n",
              "      <th>71-80</th>\n",
              "      <td>3.22%</td>\n",
              "    </tr>\n",
              "    <tr>\n",
              "      <th>More than 100 Days</th>\n",
              "      <td>2.1%</td>\n",
              "    </tr>\n",
              "    <tr>\n",
              "      <th>81-90</th>\n",
              "      <td>1.52%</td>\n",
              "    </tr>\n",
              "    <tr>\n",
              "      <th>91-100</th>\n",
              "      <td>0.87%</td>\n",
              "    </tr>\n",
              "    <tr>\n",
              "      <th>61-70</th>\n",
              "      <td>0.86%</td>\n",
              "    </tr>\n",
              "  </tbody>\n",
              "</table>\n",
              "</div><br><label><b>dtype:</b> object</label>"
            ]
          },
          "metadata": {},
          "execution_count": 93
        }
      ],
      "source": [
        "(df[\"Stay\"].value_counts(normalize=True) * 100).round(2).astype(str) + \"%\""
      ]
    },
    {
      "cell_type": "markdown",
      "metadata": {
        "id": "iUiXL7qz-nG_"
      },
      "source": [
        "Insights:"
      ]
    },
    {
      "cell_type": "markdown",
      "metadata": {
        "id": "kK0GDxy8C4Z1"
      },
      "source": [
        "### 3.2 Bivariate Analysis"
      ]
    },
    {
      "cell_type": "markdown",
      "metadata": {
        "id": "RkJosR4UA_At"
      },
      "source": [
        "#### Admission Deposit"
      ]
    },
    {
      "cell_type": "code",
      "execution_count": null,
      "metadata": {
        "colab": {
          "base_uri": "https://localhost:8080/",
          "height": 861
        },
        "id": "n0LZ0-CvoQeK",
        "outputId": "f48c9cf1-a135-4581-9c20-1ce8ba86fe8d"
      },
      "outputs": [
        {
          "output_type": "error",
          "ename": "TypeError",
          "evalue": "can't multiply sequence by non-int of type 'float'",
          "traceback": [
            "\u001b[0;31m---------------------------------------------------------------------------\u001b[0m",
            "\u001b[0;31mTypeError\u001b[0m                                 Traceback (most recent call last)",
            "\u001b[0;32m/tmp/ipython-input-2482301638.py\u001b[0m in \u001b[0;36m<cell line: 0>\u001b[0;34m()\u001b[0m\n\u001b[1;32m      1\u001b[0m \u001b[0mplt\u001b[0m\u001b[0;34m.\u001b[0m\u001b[0mfigure\u001b[0m\u001b[0;34m(\u001b[0m\u001b[0mfigsize\u001b[0m\u001b[0;34m=\u001b[0m\u001b[0;34m(\u001b[0m\u001b[0;36m8\u001b[0m\u001b[0;34m,\u001b[0m\u001b[0;36m6\u001b[0m\u001b[0;34m)\u001b[0m\u001b[0;34m)\u001b[0m\u001b[0;34m\u001b[0m\u001b[0;34m\u001b[0m\u001b[0m\n\u001b[0;32m----> 2\u001b[0;31m \u001b[0msns\u001b[0m\u001b[0;34m.\u001b[0m\u001b[0mregplot\u001b[0m\u001b[0;34m(\u001b[0m\u001b[0mx\u001b[0m\u001b[0;34m=\u001b[0m\u001b[0;34m'Admission_Deposit'\u001b[0m\u001b[0;34m,\u001b[0m \u001b[0my\u001b[0m\u001b[0;34m=\u001b[0m\u001b[0;34m'Stay'\u001b[0m\u001b[0;34m,\u001b[0m \u001b[0mdata\u001b[0m\u001b[0;34m=\u001b[0m\u001b[0mdf\u001b[0m\u001b[0;34m,\u001b[0m \u001b[0mscatter_kws\u001b[0m\u001b[0;34m=\u001b[0m\u001b[0;34m{\u001b[0m\u001b[0;34m'alpha'\u001b[0m\u001b[0;34m:\u001b[0m\u001b[0;36m0.3\u001b[0m\u001b[0;34m}\u001b[0m\u001b[0;34m)\u001b[0m\u001b[0;34m\u001b[0m\u001b[0;34m\u001b[0m\u001b[0m\n\u001b[0m\u001b[1;32m      3\u001b[0m \u001b[0mplt\u001b[0m\u001b[0;34m.\u001b[0m\u001b[0mtitle\u001b[0m\u001b[0;34m(\u001b[0m\u001b[0;34m'Admission Deposit vs Stay'\u001b[0m\u001b[0;34m)\u001b[0m\u001b[0;34m\u001b[0m\u001b[0;34m\u001b[0m\u001b[0m\n\u001b[1;32m      4\u001b[0m \u001b[0mplt\u001b[0m\u001b[0;34m.\u001b[0m\u001b[0mxlabel\u001b[0m\u001b[0;34m(\u001b[0m\u001b[0;34m'Admission Deposit'\u001b[0m\u001b[0;34m)\u001b[0m\u001b[0;34m\u001b[0m\u001b[0;34m\u001b[0m\u001b[0m\n\u001b[1;32m      5\u001b[0m \u001b[0mplt\u001b[0m\u001b[0;34m.\u001b[0m\u001b[0mylabel\u001b[0m\u001b[0;34m(\u001b[0m\u001b[0;34m'Stay (encoded)'\u001b[0m\u001b[0;34m)\u001b[0m\u001b[0;34m\u001b[0m\u001b[0;34m\u001b[0m\u001b[0m\n",
            "\u001b[0;32m/usr/local/lib/python3.12/dist-packages/seaborn/regression.py\u001b[0m in \u001b[0;36mregplot\u001b[0;34m(data, x, y, x_estimator, x_bins, x_ci, scatter, fit_reg, ci, n_boot, units, seed, order, logistic, lowess, robust, logx, x_partial, y_partial, truncate, dropna, x_jitter, y_jitter, label, color, marker, scatter_kws, line_kws, ax)\u001b[0m\n\u001b[1;32m    773\u001b[0m     \u001b[0mscatter_kws\u001b[0m\u001b[0;34m[\u001b[0m\u001b[0;34m\"marker\"\u001b[0m\u001b[0;34m]\u001b[0m \u001b[0;34m=\u001b[0m \u001b[0mmarker\u001b[0m\u001b[0;34m\u001b[0m\u001b[0;34m\u001b[0m\u001b[0m\n\u001b[1;32m    774\u001b[0m     \u001b[0mline_kws\u001b[0m \u001b[0;34m=\u001b[0m \u001b[0;34m{\u001b[0m\u001b[0;34m}\u001b[0m \u001b[0;32mif\u001b[0m \u001b[0mline_kws\u001b[0m \u001b[0;32mis\u001b[0m \u001b[0;32mNone\u001b[0m \u001b[0;32melse\u001b[0m \u001b[0mcopy\u001b[0m\u001b[0;34m.\u001b[0m\u001b[0mcopy\u001b[0m\u001b[0;34m(\u001b[0m\u001b[0mline_kws\u001b[0m\u001b[0;34m)\u001b[0m\u001b[0;34m\u001b[0m\u001b[0;34m\u001b[0m\u001b[0m\n\u001b[0;32m--> 775\u001b[0;31m     \u001b[0mplotter\u001b[0m\u001b[0;34m.\u001b[0m\u001b[0mplot\u001b[0m\u001b[0;34m(\u001b[0m\u001b[0max\u001b[0m\u001b[0;34m,\u001b[0m \u001b[0mscatter_kws\u001b[0m\u001b[0;34m,\u001b[0m \u001b[0mline_kws\u001b[0m\u001b[0;34m)\u001b[0m\u001b[0;34m\u001b[0m\u001b[0;34m\u001b[0m\u001b[0m\n\u001b[0m\u001b[1;32m    776\u001b[0m     \u001b[0;32mreturn\u001b[0m \u001b[0max\u001b[0m\u001b[0;34m\u001b[0m\u001b[0;34m\u001b[0m\u001b[0m\n\u001b[1;32m    777\u001b[0m \u001b[0;34m\u001b[0m\u001b[0m\n",
            "\u001b[0;32m/usr/local/lib/python3.12/dist-packages/seaborn/regression.py\u001b[0m in \u001b[0;36mplot\u001b[0;34m(self, ax, scatter_kws, line_kws)\u001b[0m\n\u001b[1;32m    382\u001b[0m \u001b[0;34m\u001b[0m\u001b[0m\n\u001b[1;32m    383\u001b[0m         \u001b[0;32mif\u001b[0m \u001b[0mself\u001b[0m\u001b[0;34m.\u001b[0m\u001b[0mfit_reg\u001b[0m\u001b[0;34m:\u001b[0m\u001b[0;34m\u001b[0m\u001b[0;34m\u001b[0m\u001b[0m\n\u001b[0;32m--> 384\u001b[0;31m             \u001b[0mself\u001b[0m\u001b[0;34m.\u001b[0m\u001b[0mlineplot\u001b[0m\u001b[0;34m(\u001b[0m\u001b[0max\u001b[0m\u001b[0;34m,\u001b[0m \u001b[0mline_kws\u001b[0m\u001b[0;34m)\u001b[0m\u001b[0;34m\u001b[0m\u001b[0;34m\u001b[0m\u001b[0m\n\u001b[0m\u001b[1;32m    385\u001b[0m \u001b[0;34m\u001b[0m\u001b[0m\n\u001b[1;32m    386\u001b[0m         \u001b[0;31m# Label the axes\u001b[0m\u001b[0;34m\u001b[0m\u001b[0;34m\u001b[0m\u001b[0m\n",
            "\u001b[0;32m/usr/local/lib/python3.12/dist-packages/seaborn/regression.py\u001b[0m in \u001b[0;36mlineplot\u001b[0;34m(self, ax, kws)\u001b[0m\n\u001b[1;32m    427\u001b[0m         \u001b[0;34m\"\"\"Draw the model.\"\"\"\u001b[0m\u001b[0;34m\u001b[0m\u001b[0;34m\u001b[0m\u001b[0m\n\u001b[1;32m    428\u001b[0m         \u001b[0;31m# Fit the regression model\u001b[0m\u001b[0;34m\u001b[0m\u001b[0;34m\u001b[0m\u001b[0m\n\u001b[0;32m--> 429\u001b[0;31m         \u001b[0mgrid\u001b[0m\u001b[0;34m,\u001b[0m \u001b[0myhat\u001b[0m\u001b[0;34m,\u001b[0m \u001b[0merr_bands\u001b[0m \u001b[0;34m=\u001b[0m \u001b[0mself\u001b[0m\u001b[0;34m.\u001b[0m\u001b[0mfit_regression\u001b[0m\u001b[0;34m(\u001b[0m\u001b[0max\u001b[0m\u001b[0;34m)\u001b[0m\u001b[0;34m\u001b[0m\u001b[0;34m\u001b[0m\u001b[0m\n\u001b[0m\u001b[1;32m    430\u001b[0m         \u001b[0medges\u001b[0m \u001b[0;34m=\u001b[0m \u001b[0mgrid\u001b[0m\u001b[0;34m[\u001b[0m\u001b[0;36m0\u001b[0m\u001b[0;34m]\u001b[0m\u001b[0;34m,\u001b[0m \u001b[0mgrid\u001b[0m\u001b[0;34m[\u001b[0m\u001b[0;34m-\u001b[0m\u001b[0;36m1\u001b[0m\u001b[0;34m]\u001b[0m\u001b[0;34m\u001b[0m\u001b[0;34m\u001b[0m\u001b[0m\n\u001b[1;32m    431\u001b[0m \u001b[0;34m\u001b[0m\u001b[0m\n",
            "\u001b[0;32m/usr/local/lib/python3.12/dist-packages/seaborn/regression.py\u001b[0m in \u001b[0;36mfit_regression\u001b[0;34m(self, ax, x_range, grid)\u001b[0m\n\u001b[1;32m    227\u001b[0m             \u001b[0myhat\u001b[0m\u001b[0;34m,\u001b[0m \u001b[0myhat_boots\u001b[0m \u001b[0;34m=\u001b[0m \u001b[0mself\u001b[0m\u001b[0;34m.\u001b[0m\u001b[0mfit_logx\u001b[0m\u001b[0;34m(\u001b[0m\u001b[0mgrid\u001b[0m\u001b[0;34m)\u001b[0m\u001b[0;34m\u001b[0m\u001b[0;34m\u001b[0m\u001b[0m\n\u001b[1;32m    228\u001b[0m         \u001b[0;32melse\u001b[0m\u001b[0;34m:\u001b[0m\u001b[0;34m\u001b[0m\u001b[0;34m\u001b[0m\u001b[0m\n\u001b[0;32m--> 229\u001b[0;31m             \u001b[0myhat\u001b[0m\u001b[0;34m,\u001b[0m \u001b[0myhat_boots\u001b[0m \u001b[0;34m=\u001b[0m \u001b[0mself\u001b[0m\u001b[0;34m.\u001b[0m\u001b[0mfit_fast\u001b[0m\u001b[0;34m(\u001b[0m\u001b[0mgrid\u001b[0m\u001b[0;34m)\u001b[0m\u001b[0;34m\u001b[0m\u001b[0;34m\u001b[0m\u001b[0m\n\u001b[0m\u001b[1;32m    230\u001b[0m \u001b[0;34m\u001b[0m\u001b[0m\n\u001b[1;32m    231\u001b[0m         \u001b[0;31m# Compute the confidence interval at each grid point\u001b[0m\u001b[0;34m\u001b[0m\u001b[0;34m\u001b[0m\u001b[0m\n",
            "\u001b[0;32m/usr/local/lib/python3.12/dist-packages/seaborn/regression.py\u001b[0m in \u001b[0;36mfit_fast\u001b[0;34m(self, grid)\u001b[0m\n\u001b[1;32m    244\u001b[0m         \u001b[0mX\u001b[0m\u001b[0;34m,\u001b[0m \u001b[0my\u001b[0m \u001b[0;34m=\u001b[0m \u001b[0mnp\u001b[0m\u001b[0;34m.\u001b[0m\u001b[0mc_\u001b[0m\u001b[0;34m[\u001b[0m\u001b[0mnp\u001b[0m\u001b[0;34m.\u001b[0m\u001b[0mones\u001b[0m\u001b[0;34m(\u001b[0m\u001b[0mlen\u001b[0m\u001b[0;34m(\u001b[0m\u001b[0mself\u001b[0m\u001b[0;34m.\u001b[0m\u001b[0mx\u001b[0m\u001b[0;34m)\u001b[0m\u001b[0;34m)\u001b[0m\u001b[0;34m,\u001b[0m \u001b[0mself\u001b[0m\u001b[0;34m.\u001b[0m\u001b[0mx\u001b[0m\u001b[0;34m]\u001b[0m\u001b[0;34m,\u001b[0m \u001b[0mself\u001b[0m\u001b[0;34m.\u001b[0m\u001b[0my\u001b[0m\u001b[0;34m\u001b[0m\u001b[0;34m\u001b[0m\u001b[0m\n\u001b[1;32m    245\u001b[0m         \u001b[0mgrid\u001b[0m \u001b[0;34m=\u001b[0m \u001b[0mnp\u001b[0m\u001b[0;34m.\u001b[0m\u001b[0mc_\u001b[0m\u001b[0;34m[\u001b[0m\u001b[0mnp\u001b[0m\u001b[0;34m.\u001b[0m\u001b[0mones\u001b[0m\u001b[0;34m(\u001b[0m\u001b[0mlen\u001b[0m\u001b[0;34m(\u001b[0m\u001b[0mgrid\u001b[0m\u001b[0;34m)\u001b[0m\u001b[0;34m)\u001b[0m\u001b[0;34m,\u001b[0m \u001b[0mgrid\u001b[0m\u001b[0;34m]\u001b[0m\u001b[0;34m\u001b[0m\u001b[0;34m\u001b[0m\u001b[0m\n\u001b[0;32m--> 246\u001b[0;31m         \u001b[0myhat\u001b[0m \u001b[0;34m=\u001b[0m \u001b[0mgrid\u001b[0m\u001b[0;34m.\u001b[0m\u001b[0mdot\u001b[0m\u001b[0;34m(\u001b[0m\u001b[0mreg_func\u001b[0m\u001b[0;34m(\u001b[0m\u001b[0mX\u001b[0m\u001b[0;34m,\u001b[0m \u001b[0my\u001b[0m\u001b[0;34m)\u001b[0m\u001b[0;34m)\u001b[0m\u001b[0;34m\u001b[0m\u001b[0;34m\u001b[0m\u001b[0m\n\u001b[0m\u001b[1;32m    247\u001b[0m         \u001b[0;32mif\u001b[0m \u001b[0mself\u001b[0m\u001b[0;34m.\u001b[0m\u001b[0mci\u001b[0m \u001b[0;32mis\u001b[0m \u001b[0;32mNone\u001b[0m\u001b[0;34m:\u001b[0m\u001b[0;34m\u001b[0m\u001b[0;34m\u001b[0m\u001b[0m\n\u001b[1;32m    248\u001b[0m             \u001b[0;32mreturn\u001b[0m \u001b[0myhat\u001b[0m\u001b[0;34m,\u001b[0m \u001b[0;32mNone\u001b[0m\u001b[0;34m\u001b[0m\u001b[0;34m\u001b[0m\u001b[0m\n",
            "\u001b[0;32m/usr/local/lib/python3.12/dist-packages/seaborn/regression.py\u001b[0m in \u001b[0;36mreg_func\u001b[0;34m(_x, _y)\u001b[0m\n\u001b[1;32m    240\u001b[0m         \u001b[0;34m\"\"\"Low-level regression and prediction using linear algebra.\"\"\"\u001b[0m\u001b[0;34m\u001b[0m\u001b[0;34m\u001b[0m\u001b[0m\n\u001b[1;32m    241\u001b[0m         \u001b[0;32mdef\u001b[0m \u001b[0mreg_func\u001b[0m\u001b[0;34m(\u001b[0m\u001b[0m_x\u001b[0m\u001b[0;34m,\u001b[0m \u001b[0m_y\u001b[0m\u001b[0;34m)\u001b[0m\u001b[0;34m:\u001b[0m\u001b[0;34m\u001b[0m\u001b[0;34m\u001b[0m\u001b[0m\n\u001b[0;32m--> 242\u001b[0;31m             \u001b[0;32mreturn\u001b[0m \u001b[0mnp\u001b[0m\u001b[0;34m.\u001b[0m\u001b[0mlinalg\u001b[0m\u001b[0;34m.\u001b[0m\u001b[0mpinv\u001b[0m\u001b[0;34m(\u001b[0m\u001b[0m_x\u001b[0m\u001b[0;34m)\u001b[0m\u001b[0;34m.\u001b[0m\u001b[0mdot\u001b[0m\u001b[0;34m(\u001b[0m\u001b[0m_y\u001b[0m\u001b[0;34m)\u001b[0m\u001b[0;34m\u001b[0m\u001b[0;34m\u001b[0m\u001b[0m\n\u001b[0m\u001b[1;32m    243\u001b[0m \u001b[0;34m\u001b[0m\u001b[0m\n\u001b[1;32m    244\u001b[0m         \u001b[0mX\u001b[0m\u001b[0;34m,\u001b[0m \u001b[0my\u001b[0m \u001b[0;34m=\u001b[0m \u001b[0mnp\u001b[0m\u001b[0;34m.\u001b[0m\u001b[0mc_\u001b[0m\u001b[0;34m[\u001b[0m\u001b[0mnp\u001b[0m\u001b[0;34m.\u001b[0m\u001b[0mones\u001b[0m\u001b[0;34m(\u001b[0m\u001b[0mlen\u001b[0m\u001b[0;34m(\u001b[0m\u001b[0mself\u001b[0m\u001b[0;34m.\u001b[0m\u001b[0mx\u001b[0m\u001b[0;34m)\u001b[0m\u001b[0;34m)\u001b[0m\u001b[0;34m,\u001b[0m \u001b[0mself\u001b[0m\u001b[0;34m.\u001b[0m\u001b[0mx\u001b[0m\u001b[0;34m]\u001b[0m\u001b[0;34m,\u001b[0m \u001b[0mself\u001b[0m\u001b[0;34m.\u001b[0m\u001b[0my\u001b[0m\u001b[0;34m\u001b[0m\u001b[0;34m\u001b[0m\u001b[0m\n",
            "\u001b[0;31mTypeError\u001b[0m: can't multiply sequence by non-int of type 'float'"
          ]
        },
        {
          "output_type": "display_data",
          "data": {
            "text/plain": [
              "<Figure size 800x600 with 1 Axes>"
            ],
            "image/png": "[encoded data removed]"
          },
          "metadata": {}
        }
      ],
      "source": [
        "plt.figure(figsize=(8,6))\n",
        "sns.regplot(x='Admission_Deposit', y='Stay', data=df, scatter_kws={'alpha':0.3})\n",
        "plt.title('Admission Deposit vs Stay')\n",
        "plt.xlabel('Admission Deposit')\n",
        "plt.ylabel('Stay (encoded)')\n",
        "plt.show()"
      ]
    },
    {
      "cell_type": "markdown",
      "metadata": {
        "id": "EnJ-z7cpBB3Y"
      },
      "source": [
        "#### Patient Age"
      ]
    },
    {
      "cell_type": "code",
      "execution_count": null,
      "metadata": {
        "id": "98iVMesbpz3W"
      },
      "outputs": [],
      "source": [
        "#Explore if patient age impacts length of stay.\n",
        "plt.figure(figsize=(10, 6))\n",
        "sns.boxplot(x='Age', y='Stay', data=df)\n",
        "plt.title(\"Age Group vs Stay Duration\", fontsize=14)\n",
        "plt.xlabel(\"Age Group\")\n",
        "plt.ylabel(\"Stay Duration\")\n",
        "plt.grid(True)\n",
        "plt.tight_layout()\n",
        "plt.show()"
      ]
    },
    {
      "cell_type": "markdown",
      "metadata": {
        "id": "Eam3KKIFBIi0"
      },
      "source": [
        "#### Severity of Illness"
      ]
    },
    {
      "cell_type": "code",
      "execution_count": null,
      "metadata": {
        "id": "nvCjh0rxol-7"
      },
      "outputs": [],
      "source": [
        "#Explore how illness severity impact.\n",
        "plt.figure(figsize=(10, 6))\n",
        "sns.boxplot(x='Severity of Illness', y='Stay', data=df)\n",
        "plt.title(\"Illness Severity vs Stay Duration\", fontsize=14)\n",
        "plt.xlabel(\"Severity\")\n",
        "plt.ylabel(\"Stay Duration\")\n",
        "plt.grid(True)\n",
        "plt.tight_layout()\n",
        "plt.show()\n"
      ]
    },
    {
      "cell_type": "markdown",
      "metadata": {
        "id": "DM4Eu3WXBMvy"
      },
      "source": [
        "#### Admission Type"
      ]
    },
    {
      "cell_type": "code",
      "execution_count": null,
      "metadata": {
        "id": "eEPFlZHJo-LR"
      },
      "outputs": [],
      "source": [
        "#Explore how Admission type affects LOS.\n",
        "plt.figure(figsize=(10, 6))\n",
        "sns.boxplot(x='Type of Admission', y='Stay', data=df)\n",
        "plt.title(\"Admission Type vs Stay Duration\", fontsize=14)\n",
        "plt.xlabel(\"Admission Type\")\n",
        "plt.ylabel(\"Stay Duration\")\n",
        "plt.grid(True)\n",
        "plt.tight_layout()\n",
        "plt.show()"
      ]
    },
    {
      "cell_type": "markdown",
      "metadata": {
        "id": "YIKIVJUtBj4C"
      },
      "source": [
        "#### Correlation Matrix"
      ]
    },
    {
      "cell_type": "code",
      "execution_count": null,
      "metadata": {
        "id": "UhacVU1AfrMW"
      },
      "outputs": [],
      "source": [
        "#Correlation matrix to see relation between target variable 'Stay' and numeric values.\n",
        "plt.figure(figsize=(14, 10))\n",
        "corr = df.corr(numeric_only=True)\n",
        "sns.heatmap(corr, annot=True, cmap='RdBu_r', center=0, fmt=\".2f\")\n",
        "plt.title(\"Feature Correlation Heatmap\", fontsize=16)\n",
        "plt.tight_layout()\n",
        "plt.show()"
      ]
    },
    {
      "cell_type": "markdown",
      "metadata": {
        "id": "iki5NleoP92A"
      },
      "source": [
        "### 3.3 Checking for Missing values"
      ]
    },
    {
      "cell_type": "code",
      "execution_count": null,
      "metadata": {
        "id": "1k8zy-DfPjcO"
      },
      "outputs": [],
      "source": [
        "df.isna().sum()\n"
      ]
    },
    {
      "cell_type": "markdown",
      "metadata": {
        "id": "WxhkGHI9_n-E"
      },
      "source": [
        "It seems only 'Bed Grade' and 'City_Code_Patient' have missing values. Since these are categorical features, handling by imputation of mode seems the most efficient choice."
      ]
    },
    {
      "cell_type": "code",
      "execution_count": null,
      "metadata": {
        "id": "nByVDOPAVEiB"
      },
      "outputs": [],
      "source": [
        "# Check which replacement option for missing 'Bed Grade' is best to use --> mode\n",
        "\n",
        "df['Bed Grade'].describe()\n",
        "df['Bed Grade'].hist()"
      ]
    },
    {
      "cell_type": "code",
      "execution_count": null,
      "metadata": {
        "id": "56kSsmr_V4BF"
      },
      "outputs": [],
      "source": [
        "# Check which replacement option for missing 'City_Code_Patient' is best to use -- mode\n",
        "\n",
        "df['City_Code_Patient'].describe()\n",
        "df['City_Code_Patient'].hist()"
      ]
    },
    {
      "cell_type": "markdown",
      "metadata": {
        "id": "404uERffPz0r"
      },
      "source": [
        "### 3.4 Checking for Outliers"
      ]
    },
    {
      "cell_type": "code",
      "execution_count": null,
      "metadata": {
        "id": "3fKigfRIg2R4"
      },
      "outputs": [],
      "source": [
        "# Identifing which numerical date have outliers\n",
        "\n",
        "import seaborn as sns\n",
        "import matplotlib.pyplot as plt\n",
        "\n",
        "numeric_cols = ['Available Extra Rooms in Hospital', 'Visitors with Patient', 'Admission_Deposit', 'Stay']\n",
        "\n",
        "plt.figure(figsize=(12,6))\n",
        "sns.boxplot(data=df[numeric_cols])\n",
        "plt.title(\"Boxplot of Numeric Columns (Outliers Shown)\")\n",
        "plt.xticks(rotation=45)\n",
        "plt.show()"
      ]
    },
    {
      "cell_type": "code",
      "execution_count": null,
      "metadata": {
        "id": "1s7xa-1ahu8Y"
      },
      "outputs": [],
      "source": [
        "\n",
        "numeric_cols = ['Admission_Deposit']\n",
        "\n",
        "# Convert columns to float (in case some are object type)\n",
        "for col in numeric_cols:\n",
        "    df[col] = pd.to_numeric(df[col], errors='coerce')\n",
        "\n",
        "Q1 = df[numeric_cols].quantile(0.25)\n",
        "Q3 = df[numeric_cols].quantile(0.75)\n",
        "IQR = Q3 - Q1\n",
        "\n",
        "# Identify rows with outliers\n",
        "outliers = df[((df[numeric_cols] < Q1 - 1.5*IQR) | (df[numeric_cols] > Q3 + 1.5*IQR)).any(axis=1)]\n",
        "print(\"Rows with outliers:\")\n",
        "print(outliers)\n",
        "\n",
        "# Number of rows with outliers\n",
        "print(\"Number of rows with outliers:\", len(outliers))\n",
        "\n",
        "# Number of outliers per column\n",
        "outlier_flags = (df[numeric_cols] < Q1 - 1.5*IQR) | (df[numeric_cols] > Q3 + 1.5*IQR)\n",
        "print(\"Number of outlier values per column:\")\n",
        "print(outlier_flags.sum())"
      ]
    },
    {
      "cell_type": "code",
      "execution_count": null,
      "metadata": {
        "id": "spcoRzoZjhKc"
      },
      "outputs": [],
      "source": [
        "# We found outliers, but we should at the beginning check how relevant this category is (correletion)"
      ]
    },
    {
      "cell_type": "markdown",
      "metadata": {
        "id": "PwbSSlkZEt2d"
      },
      "source": [
        "## 4. Data Cleaning & Preprocessing\n",
        "Goal: Make the dataset ready for modeling.\n",
        "You’d do:\n",
        "* Handle missing values (e.g., imputation strategies).\n",
        "* Remove or cap outliers (e.g., extreme LOS values).\n",
        "* Convert categorical features (diagnosis codes, department) using one-hot encoding or embeddings.\n",
        "* Normalize/scale numerical features if needed.\n",
        "* Split data into train/test (or train/val/test) sets.\n",
        "\n",
        "Why: Garbage in = garbage out. Clean, well-prepared data is crucial for model performance and fairness.\n"
      ]
    },
    {
      "cell_type": "markdown",
      "metadata": {
        "id": "VIzWE6BGG1zq"
      },
      "source": [
        "#### 4.1 Split Data into Test and Validation Sets"
      ]
    },
    {
      "cell_type": "code",
      "source": [
        "df.columns"
      ],
      "metadata": {
        "id": "6UieR78VH3dl"
      },
      "execution_count": null,
      "outputs": []
    },
    {
      "cell_type": "code",
      "execution_count": null,
      "metadata": {
        "id": "OVEdvk8cFKaB"
      },
      "outputs": [],
      "source": [
        "# Select Target variable to predict and make sure data type is correct (categorical variable)\n",
        "y = df['Stay'].astype('object')\n",
        "\n",
        "# Select Features for prediction, all except:\n",
        "# - Target to be predicted ('Stay')\n",
        "# - ID-like columns to avoid data-leakage, namely 'case_id' and 'patientid'\n",
        "features_columns = [col for col in df.columns if col not in ['Stay', 'case_id', 'patientid']]\n",
        "X = df[features_columns]\n",
        "\n",
        "# Set categorical features data types as object\n",
        "categorical_cols = [\n",
        "    'Hospital_code', 'Hospital_type_code', 'City_Code_Hospital',\n",
        "    'Hospital_region_code', 'Department', 'Ward_Type',\n",
        "    'Ward_Facility_Code', 'Bed Grade', 'City_Code_Patient',\n",
        "    'Type of Admission', 'Severity of Illness', 'Age'\n",
        "]\n",
        "\n",
        "# Convert these columns to object type in-place\n",
        "X[categorical_cols] = X[categorical_cols].astype('object')\n",
        "\n",
        "# Split the dataset into training and validation sets\n",
        "X_train, X_val, y_train, y_val = train_test_split(X, y, test_size=0.2, random_state=42)"
      ]
    },
    {
      "cell_type": "markdown",
      "metadata": {
        "id": "dz4SnJHWFO26"
      },
      "source": [
        "### 4.2 Target Data Preparation"
      ]
    },
    {
      "cell_type": "markdown",
      "metadata": {
        "id": "u5Nr61cnFT2T"
      },
      "source": [
        "#### Missing Values\n",
        "FYI: We need to remove missing values in the target variable of training and validation data before feeding it to a machine learning model because the model relies on having a known output (target) to learn from (Chatgpt)."
      ]
    },
    {
      "cell_type": "code",
      "execution_count": null,
      "metadata": {
        "id": "g-eBy32_FXdH"
      },
      "outputs": [],
      "source": [
        "# Check if any missing values in training data\n",
        "print(\"Any missing values in y_train:\", y_train.isnull().any().any())\n",
        "print(\"Any missing values in X_train:\", X_train.isnull().any().any())\n",
        "\n",
        "# Drop rows with missing target in the training set\n",
        "train_mask = y_train.notnull()  # True for rows where y_train is not NaN\n",
        "X_train = X_train[train_mask] # Replace X_train with only values that verify the mask, ie values that are not null\n",
        "y_train = y_train[train_mask]\n",
        "\n",
        "# Drop rows with missing target in the validation set\n",
        "val_mask = y_val.notnull()      # True for rows where y_val is not NaN\n",
        "X_val = X_val[val_mask]\n",
        "y_val = y_val[val_mask]\n",
        "\n",
        "# Optional sanity check\n",
        "print(\"Training set size after dropping NaNs in target:\", X_train.shape[0])\n",
        "print(\"Validation set size after dropping NaNs in target:\", X_val.shape[0])\n",
        "print(\"Any missing values left in y_train?\", y_train.isnull().any())\n",
        "print(\"Any missing values left in y_val?\", y_val.isnull().any())"
      ]
    },
    {
      "cell_type": "markdown",
      "metadata": {
        "id": "9Qr-njXCFk0N"
      },
      "source": [
        "#### Categorical Data Ordinal Encoding\n",
        "FYI: Target variable here needs to be encoded ordinally (categorical variable with \"ranking\", like 0-10 days stay < 11-20 days stay etc.) before being inputed into the models. We replace the ranges with number from 0 to 10."
      ]
    },
    {
      "cell_type": "code",
      "execution_count": null,
      "metadata": {
        "id": "jj1EJOTVFqr2"
      },
      "outputs": [],
      "source": [
        "# Ensure y_train and y_val have no missing values\n",
        "y_train = y_train[y_train.notnull()]\n",
        "y_val = y_val[y_val.notnull()]\n",
        "\n",
        "# Initialize the encoder\n",
        "target_encoder = OrdinalEncoder()\n",
        "\n",
        "# Fit on training target and transform\n",
        "y_train_encoded = target_encoder.fit_transform(y_train.values.reshape(-1, 1)).ravel()\n",
        "\n",
        "# Transform validation target\n",
        "y_val_encoded = target_encoder.transform(y_val.values.reshape(-1, 1)).ravel()\n",
        "\n",
        "# Optional: check mapping\n",
        "mapping = dict(zip(target_encoder.categories_[0], range(len(target_encoder.categories_[0]))))\n",
        "print(\"Ordinal mapping of target classes:\", mapping)"
      ]
    },
    {
      "cell_type": "markdown",
      "metadata": {
        "id": "W59y370EFznM"
      },
      "source": [
        "### 4.3 Features Proprocessing\n",
        "FYI: used Pipelines here for more robust and smaller code.\n",
        "Missing values in numerical feature columns are replaced with median, while missing values in categorical variables are replaced with mode.\n",
        "Additionally, categorical feature columns are encoded ordinally whenever possible, using one_hot encoder otherwise."
      ]
    },
    {
      "cell_type": "code",
      "execution_count": null,
      "metadata": {
        "id": "cNUCNeRkF5EX"
      },
      "outputs": [],
      "source": [
        "# =============================== Identify feature types ===============================\n",
        "# Identify feature types (categorical vs numeric)\n",
        "numeric_columns = ['Available Extra Rooms in Hospital','Visitors with Patient',\n",
        "       'Admission_Deposit']\n",
        "ordinal_columns = ['Bed Grade', 'Severity of Illness', 'Age']  # Add any ordinal features here if applicable\n",
        "nonordinal_columns = list(set(X_train.columns) - (set(ordinal_columns) | set(numeric_columns)))\n",
        "\n",
        "# =============================== Transformers ===============================\n",
        "# Numeric: median imputation + scaling\n",
        "numeric_transformer = Pipeline([\n",
        "    ('imputer', SimpleImputer(strategy='median')),\n",
        "    ('scaler', StandardScaler()) # Optional: scale numeric features\n",
        "])\n",
        "\n",
        "# Ordinal categorical: mode imputation + ordinal encoding\n",
        "ordinal_transformer = Pipeline([\n",
        "    ('imputer', SimpleImputer(strategy='most_frequent')),\n",
        "    ('encoder', OrdinalEncoder())\n",
        "])\n",
        "\n",
        "# Non-ordinal categorical: mode imputation + one-hot encoding\n",
        "nonordinal_transformer = Pipeline([\n",
        "    ('imputer', SimpleImputer(strategy='most_frequent')),\n",
        "    ('encoder', OneHotEncoder(handle_unknown='ignore', sparse_output=False))\n",
        "])\n",
        "\n",
        "# Combine all transformers\n",
        "preprocessor = ColumnTransformer(transformers=[\n",
        "    ('num', numeric_transformer, numeric_columns),\n",
        "    ('ord', ordinal_transformer, ordinal_columns),\n",
        "    ('cat', nonordinal_transformer, nonordinal_columns)\n",
        "])"
      ]
    },
    {
      "cell_type": "markdown",
      "metadata": {
        "id": "k31lvaMaE6_J"
      },
      "source": [
        "## 5. Model Selection & Training"
      ]
    },
    {
      "cell_type": "markdown",
      "metadata": {
        "id": "MXPGiHHR6Ta8"
      },
      "source": [
        "### 5.1 Model selection"
      ]
    },
    {
      "cell_type": "code",
      "execution_count": null,
      "metadata": {
        "id": "fiidLYYkGEWx"
      },
      "outputs": [],
      "source": [
        "# =============================== 🏗️ Models ===============================\n",
        "models = {}\n",
        "\n",
        "# Decision Tree (classification)\n",
        "models[\"Decision Tree\"] = Pipeline([\n",
        "    (\"preprocess\", preprocessor),\n",
        "    (\"clf\", DecisionTreeClassifier(max_depth=None, random_state=42))\n",
        "])\n",
        "\n",
        "# Random Forest (classification)\n",
        "models[\"Random Forest\"] = Pipeline([\n",
        "    (\"preprocess\", preprocessor),\n",
        "    (\"clf\", RandomForestClassifier(n_estimators=200, random_state=42))\n",
        "])\n",
        "\n",
        "# OGBoost (Gradient Boosting Ordinal), better performing than XGBoost for ordinal tasks\n",
        "models[\"OGBoost\"] = Pipeline([\n",
        "    (\"preprocess\", preprocessor),\n",
        "    (\"ord\", GradientBoostingOrdinal(\n",
        "        n_estimators=300,\n",
        "        learning_rate=0.1,\n",
        "        random_state=42\n",
        "    ))\n",
        "])"
      ]
    },
    {
      "cell_type": "markdown",
      "metadata": {
        "id": "3KFBlaj2E-A2"
      },
      "source": [
        "### 5.2 Model Training & Evaluation\n",
        "\n"
      ]
    },
    {
      "cell_type": "code",
      "execution_count": null,
      "metadata": {
        "id": "VqTWghct7Gr4"
      },
      "outputs": [],
      "source": [
        "# =============================== Helper: evaluation function ===============================\n",
        "def evaluate_model(name, y_true, y_pred):\n",
        "    \"\"\"\n",
        "    Evaluate the performance of a model on ordinal/categorical predictions.\n",
        "\n",
        "    Parameters\n",
        "    ----------\n",
        "    name : str\n",
        "        Name of the model (used for printing and result dictionary).\n",
        "    y_true : array-like of shape (n_samples,)\n",
        "        True labels of the target variable.\n",
        "    y_pred : array-like of shape (n_samples,)\n",
        "        Predicted labels by the model.\n",
        "\n",
        "    Returns\n",
        "    -------\n",
        "    dict\n",
        "        A dictionary containing the model name and key evaluation metrics:\n",
        "        - \"Accuracy\": Fraction of exact matches between y_true and y_pred.\n",
        "        - \"QWK\": Quadratic Weighted Kappa score, measures ordinal agreement.\n",
        "        - \"Ordinal_MAE\": Mean absolute error between predicted and true ordinal labels.\n",
        "\n",
        "    Side Effects\n",
        "    ------------\n",
        "    Prints:\n",
        "        - Accuracy\n",
        "        - Quadratic Weighted Kappa (QWK)\n",
        "        - Ordinal MAE\n",
        "        - Confusion matrix (counts of true vs predicted labels)\n",
        "    \"\"\"\n",
        "    acc = accuracy_score(y_true, y_pred)\n",
        "    qwk = cohen_kappa_score(y_true, y_pred, weights=\"quadratic\")\n",
        "    mae = mean_absolute_error(y_true, y_pred)\n",
        "\n",
        "    print(f\"\\n=== {name} ===\")\n",
        "    print(f\"Accuracy:        {acc:.4f}\")\n",
        "    print(f\"Quadratic Kappa: {qwk:.4f}\")\n",
        "    print(f\"Ordinal MAE:     {mae:.4f}\")\n",
        "    print(\"Confusion Matrix:\\n\", confusion_matrix(y_true, y_pred))\n",
        "    print(\"-\" * 50)\n",
        "\n",
        "    return {\"Model\": name, \"Accuracy\": acc,\n",
        "            \"QWK\": qwk, \"Ordinal_MAE\": mae}"
      ]
    },
    {
      "cell_type": "code",
      "execution_count": null,
      "metadata": {
        "id": "j50t1YFuGIaQ"
      },
      "outputs": [],
      "source": [
        "# Convert targets to integers for ordinal regression\n",
        "y_train_encoded = y_train_encoded.astype(int)\n",
        "y_val_encoded   = y_val_encoded.astype(int)\n",
        "\n",
        "results = []\n",
        "\n",
        "for name, model in models.items():\n",
        "    print(f\"\\nTraining {name}...\")\n",
        "\n",
        "    # For pipelines with target encoding, fit needs X and y\n",
        "    model.fit(X_train, y_train_encoded)\n",
        "\n",
        "    # Generate predictions\n",
        "    if name == \"OGBoost\":\n",
        "        # Round and clip regression predictions to nearest class\n",
        "        y_pred = np.clip(\n",
        "            np.rint(model.predict(X_val)),\n",
        "            y_train_encoded.min(),\n",
        "            y_train_encoded.max()\n",
        "        ).astype(int)\n",
        "    else:\n",
        "        # Random Forest and Decision Tree\n",
        "        y_pred = model.predict(X_val)\n",
        "\n",
        "    # Evaluate model\n",
        "    metrics = evaluate_model(name, y_val_encoded, y_pred)\n",
        "    results.append(metrics)\n",
        "\n",
        "# ===============================📊 Results summary ===============================\n",
        "results_df = pd.DataFrame(results).sort_values(\"QWK\", ascending=False)\n",
        "print(\"\\n\\n=== Summary (sorted by QWK) ===\")\n",
        "print(results_df)"
      ]
    },
    {
      "cell_type": "markdown",
      "metadata": {
        "id": "oiTVFfBsMprc"
      },
      "source": [
        "## 6. Feature Importance & Explainability\n",
        "Goal: Understand what drives predictions.\n",
        "You’d do:\n",
        "* Use SHAP or LIME to interpret predictions.\n",
        "*\tIdentify top contributing features (e.g., diagnosis type, comorbidities, age).\n",
        "*\tDiscuss whether the model aligns with medical intuition.\n",
        "\n",
        "Why: Interpretability is critical in healthcare — clinicians and administrators need to trust the model.\n",
        "\n"
      ]
    },
    {
      "cell_type": "markdown",
      "metadata": {
        "id": "R4qGutxd8Xau"
      },
      "source": [
        "## 7. Conclusion & Recommendations\n",
        "Goal: Summarize findings and insights.\n",
        "You’d include:\n",
        "* Best-performing model summary\n",
        "* Key drivers of LOS\n",
        "*\tLimitations (e.g., missing clinical variables, data bias)\n",
        "*\tFuture improvements (e.g., incorporating lab results, NLP on notes)\n",
        "\n",
        "Why: This section closes the loop and communicates results to stakeholders clearly."
      ]
    }
  ],
  "metadata": {
    "colab": {
      "provenance": [],
      "include_colab_link": true
    },
    "kernelspec": {
      "display_name": "Python 3",
      "name": "python3"
    },
    "language_info": {
      "name": "python"
    }
  },
  "nbformat": 4,
  "nbformat_minor": 0
}