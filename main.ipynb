{
 "cells": [
  {
   "cell_type": "markdown",
   "id": "cad44e88",
   "metadata": {},
   "source": [
    "# PROGRAMMING FOR MANAGEMENT STUDIES - HEALTHCARE ANALYTICS"
   ]
  },
  {
   "cell_type": "markdown",
   "id": "f54e48be",
   "metadata": {},
   "source": [
    "## EXPLORATORY DATA ANALYTICS"
   ]
  },
  {
   "cell_type": "code",
   "execution_count": 1,
   "id": "73698760",
   "metadata": {},
   "outputs": [
    {
     "name": "stdout",
     "output_type": "stream",
     "text": [
      "   case_id  Stay\n",
      "0   318439  0-10\n",
      "1   318440  0-10\n",
      "2   318441  0-10\n",
      "3   318442  0-10\n",
      "4   318443  0-10    case_id  Hospital_code Hospital_type_code  City_Code_Hospital  \\\n",
      "0   318439             21                  c                   3   \n",
      "1   318440             29                  a                   4   \n",
      "2   318441             26                  b                   2   \n",
      "3   318442              6                  a                   6   \n",
      "4   318443             28                  b                  11   \n",
      "\n",
      "  Hospital_region_code  Available Extra Rooms in Hospital  Department  \\\n",
      "0                    Z                                  3  gynecology   \n",
      "1                    X                                  2  gynecology   \n",
      "2                    Y                                  3  gynecology   \n",
      "3                    X                                  3  gynecology   \n",
      "4                    X                                  2  gynecology   \n",
      "\n",
      "  Ward_Type Ward_Facility_Code  Bed Grade  patientid  City_Code_Patient  \\\n",
      "0         S                  A        2.0      17006                2.0   \n",
      "1         S                  F        2.0      17006                2.0   \n",
      "2         Q                  D        4.0      17006                2.0   \n",
      "3         Q                  F        2.0      17006                2.0   \n",
      "4         R                  F        2.0      17006                2.0   \n",
      "\n",
      "  Type of Admission Severity of Illness  Visitors with Patient    Age  \\\n",
      "0         Emergency            Moderate                      2  71-80   \n",
      "1            Trauma            Moderate                      4  71-80   \n",
      "2         Emergency            Moderate                      3  71-80   \n",
      "3            Trauma            Moderate                      3  71-80   \n",
      "4            Trauma            Moderate                      4  71-80   \n",
      "\n",
      "   Admission_Deposit  \n",
      "0             3095.0  \n",
      "1             4018.0  \n",
      "2             4492.0  \n",
      "3             4173.0  \n",
      "4             4161.0      case_id  Hospital_code Hospital_type_code  City_Code_Hospital  \\\n",
      "0        1              8                  c                   3   \n",
      "1        2              2                  c                   5   \n",
      "2        3             10                  e                   1   \n",
      "3        4             26                  b                   2   \n",
      "4        5             26                  b                   2   \n",
      "\n",
      "  Hospital_region_code  Available Extra Rooms in Hospital    Department  \\\n",
      "0                    Z                                  3  radiotherapy   \n",
      "1                    Z                                  2  radiotherapy   \n",
      "2                    X                                  2    anesthesia   \n",
      "3                    Y                                  2  radiotherapy   \n",
      "4                    Y                                  2  radiotherapy   \n",
      "\n",
      "  Ward_Type Ward_Facility_Code  Bed Grade  patientid  City_Code_Patient  \\\n",
      "0         R                  F        2.0      31397                7.0   \n",
      "1         S                  F        2.0      31397                7.0   \n",
      "2         S                  E        2.0      31397                7.0   \n",
      "3         R                  D        2.0      31397                7.0   \n",
      "4         S                  D        2.0      31397                7.0   \n",
      "\n",
      "  Type of Admission Severity of Illness  Visitors with Patient    Age  \\\n",
      "0         Emergency             Extreme                      2  51-60   \n",
      "1            Trauma             Extreme                      2  51-60   \n",
      "2            Trauma             Extreme                      2  51-60   \n",
      "3            Trauma             Extreme                      2  51-60   \n",
      "4            Trauma             Extreme                      2  51-60   \n",
      "\n",
      "   Admission_Deposit   Stay  \n",
      "0             4911.0   0-10  \n",
      "1             5954.0  41-50  \n",
      "2             4745.0  31-40  \n",
      "3             7272.0  41-50  \n",
      "4             5558.0  41-50                    Column                           Description\n",
      "0               case_id        Case_ID registered in Hospital\n",
      "1         Hospital_code          Unique code for the Hospital\n",
      "2    Hospital_type_code  Unique code for the type of Hospital\n",
      "3    City_Code_Hospital             City Code of the Hospital\n",
      "4  Hospital_region_code           Region Code of the Hospital\n"
     ]
    }
   ],
   "source": [
    "import numpy as np\n",
    "import pandas as pd\n",
    "\n",
    "sample_sub = pd.read_csv('sample_sub.csv')\n",
    "test_data = pd.read_csv('test_data.csv')\n",
    "train_data = pd.read_csv('train_data.csv')\n",
    "train_data_dictionary = pd.read_csv('train_data_dictionary.csv')\n",
    "\n",
    "print(sample_sub.head(), test_data.head(), train_data.head(), train_data_dictionary.head())"
   ]
  },
  {
   "cell_type": "markdown",
   "id": "68427757",
   "metadata": {},
   "source": [
    "## DATA CLEANING/PREPROCESSING"
   ]
  },
  {
   "cell_type": "markdown",
   "id": "ae7d9890",
   "metadata": {},
   "source": [
    "## MODEL SPECIFICATION"
   ]
  },
  {
   "cell_type": "markdown",
   "id": "93430933",
   "metadata": {},
   "source": [
    "## MODEL EVALUATION"
   ]
  }
 ],
 "metadata": {
  "kernelspec": {
   "display_name": "programming_mmdt",
   "language": "python",
   "name": "python3"
  },
  "language_info": {
   "codemirror_mode": {
    "name": "ipython",
    "version": 3
   },
   "file_extension": ".py",
   "mimetype": "text/x-python",
   "name": "python",
   "nbconvert_exporter": "python",
   "pygments_lexer": "ipython3",
   "version": "3.14.0"
  }
 },
 "nbformat": 4,
 "nbformat_minor": 5
}
